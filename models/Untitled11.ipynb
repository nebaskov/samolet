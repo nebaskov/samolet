{
 "cells": [
  {
   "cell_type": "code",
   "execution_count": null,
   "id": "62389e76-b746-46e3-875a-b049531d9fd0",
   "metadata": {},
   "outputs": [],
   "source": [
    "import numpy as np\n",
    "import pandas as pd \n",
    "\n",
    "class Q_learning():\n",
    "    def __init__(self,states,actions,learning_rate,epsilon = 0.9,gamma = 0.9):\n",
    "        self.state_space = states\n",
    "        self.action_space = actions\n",
    "        self.n_states = len(self.state_space)\n",
    "        self.n_actions = len(self.action_space)\n",
    "        self.gamma = gamma\n",
    "        self.epsilon = epsilon\n",
    "        self.alpha =learning_rate\n",
    "        self.q_table = self.build_q_table()\n",
    "      \n",
    "        \n",
    "    def build_q_table(self):\n",
    "        q_table = pd.DataFrame(np.zeros([self.n_states,self.n_actions]),\n",
    "                               index = self.state_space,\n",
    "                               columns = self.action_space)\n",
    "        return q_table\n",
    "    \n",
    "    \n",
    "    def epsilon_choose_action(self,state):\n",
    "        state_action = self.q_table.loc[state]\n",
    "        if (np.random.uniform() > self.epsilon) or ((state_action == 0).all()):\n",
    "            action = np.random.choice(state_action.index)\n",
    "        else:\n",
    "            action = state_action.idxmax()\n",
    "        return action\n",
    "    \n",
    "    \n",
    "    def learn(self,state,action,reward,next_state):\n",
    "        q_current = self.q_table.loc[state,action]\n",
    "        q_target = reward if (next_state == 'terminal') else (\n",
    "                reward + self.gamma*self.q_table.loc[next_state].max())\n",
    "        \n",
    "        self.q_table.loc[state,action] += self.alpha*(q_target - q_current)"
   ]
  }
 ],
 "metadata": {
  "kernelspec": {
   "display_name": "Python 3 (ipykernel)",
   "language": "python",
   "name": "python3"
  },
  "language_info": {
   "codemirror_mode": {
    "name": "ipython",
    "version": 3
   },
   "file_extension": ".py",
   "mimetype": "text/x-python",
   "name": "python",
   "nbconvert_exporter": "python",
   "pygments_lexer": "ipython3",
   "version": "3.9.4"
  }
 },
 "nbformat": 4,
 "nbformat_minor": 5
}
