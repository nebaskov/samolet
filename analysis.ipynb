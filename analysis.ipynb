{
 "cells": [
  {
   "cell_type": "code",
   "execution_count": 1,
   "metadata": {
    "collapsed": true,
    "ExecuteTime": {
     "end_time": "2023-06-23T23:52:24.910693Z",
     "start_time": "2023-06-23T23:52:24.619653Z"
    }
   },
   "outputs": [],
   "source": [
    "import pandas as pd"
   ]
  },
  {
   "cell_type": "markdown",
   "source": [
    "### цены на сырье"
   ],
   "metadata": {
    "collapsed": false
   }
  },
  {
   "cell_type": "code",
   "execution_count": 2,
   "outputs": [
    {
     "data": {
      "text/plain": "            dt  \\\n0   2015-02-09   \n1   2015-02-16   \n2   2015-02-23   \n3   2015-03-02   \n4   2015-03-09   \n..         ...   \n418 2023-02-13   \n419 2023-02-20   \n420 2023-02-27   \n421 2023-03-06   \n422 2023-03-13   \n\n     Концентрат коксующегося угля_Россия марка ОС FCA руб./т, без НДС  \\\n0                                                 3850                  \n1                                                 3850                  \n2                                                 3850                  \n3                                                 3850                  \n4                                                 4400                  \n..                                                 ...                  \n418                                               9500                  \n419                                               9500                  \n420                                               9500                  \n421                                              10000                  \n422                                              10000                  \n\n     Лом_HMS 1/2 80:20, FOB EC Роттердам, $/т  \\\n0                                         228   \n1                                         206   \n2                                         207   \n3                                         214   \n4                                         232   \n..                                        ...   \n418                                       399   \n419                                       390   \n420                                       411   \n421                                       422   \n422                                       426   \n\n     Лом_3А, РФ CPT ж/д Южный ФО, руб./т, без НДС  \\\n0                                           12344   \n1                                           12271   \n2                                           12645   \n3                                           12696   \n4                                           12916   \n..                                            ...   \n418                                         25741   \n419                                         25837   \n420                                         25814   \n421                                         25821   \n422                                         26750   \n\n     Лом_3А, РФ CPT ж/д Сибирский ФО, руб./т, без НДС  \\\n0                                               10009   \n1                                               10432   \n2                                               11981   \n3                                               11912   \n4                                               12061   \n..                                                ...   \n418                                             23774   \n419                                             24060   \n420                                             24275   \n421                                             25347   \n422                                             25313   \n\n     Лом_3А, РФ CPT ж/д Центральный ФО, руб./т, без НДС  \\\n0                                                12728    \n1                                                12852    \n2                                                13034    \n3                                                12910    \n4                                                12964    \n..                                                 ...    \n418                                              24100    \n419                                              24184    \n420                                              24047    \n421                                              24055    \n422                                              25021    \n\n     ЖРС_Китай Iron ore fines Fe 62%, CFR  Чугун_CFR Италия, $/т  \\\n0                                      62                    NaN   \n1                                      63                    NaN   \n2                                      64                    NaN   \n3                                      63                    NaN   \n4                                      61                    NaN   \n..                                    ...                    ...   \n418                                   124                  505.0   \n419                                   124                  500.0   \n420                                   130                  502.5   \n421                                   126                  500.0   \n422                                   128                  502.5   \n\n     Концентрат коксующегося угля_Россия марка КО FCA руб./т, без НДС  \\\n0                                               3700.0                  \n1                                               3700.0                  \n2                                               3700.0                  \n3                                               3700.0                  \n4                                               4050.0                  \n..                                                 ...                  \n418                                             7500.0                  \n419                                             7500.0                  \n420                                             7500.0                  \n421                                             7500.0                  \n422                                             7500.0                  \n\n     ЖРС_Российские окатыши Fe 62-65,5%, SiO2 5,8-8,65, DAP Забайкальск-Манжули, $/т  \\\n0                                                 70.0                                 \n1                                                 70.0                                 \n2                                                 72.0                                 \n3                                                 72.0                                 \n4                                                 70.0                                 \n..                                                 ...                                 \n418                                              136.5                                 \n419                                              137.5                                 \n420                                              143.0                                 \n421                                              139.0                                 \n422                                              141.0                                 \n\n     ...  Лом_3А, РФ FCA ж/д Свердловская обл, руб./т, без НДС  \\\n0    ...                                                NaN      \n1    ...                                                NaN      \n2    ...                                                NaN      \n3    ...                                                NaN      \n4    ...                                                NaN      \n..   ...                                                ...      \n418  ...                                            22765.0      \n419  ...                                            23414.0      \n420  ...                                            24014.0      \n421  ...                                            24005.0      \n422  ...                                            24573.0      \n\n     Чугун_CFR Турция, $/т  \\\n0                      NaN   \n1                      NaN   \n2                      NaN   \n3                      NaN   \n4                      NaN   \n..                     ...   \n418                  457.5   \n419                  465.0   \n420                  455.0   \n421                  467.5   \n422                  475.0   \n\n     ЖРС_Средневзвешенная цена окатыши Fe 62-65,5%, Россия FCA руб./т, без НДС  \\\n0                                                  NaN                           \n1                                                  NaN                           \n2                                                  NaN                           \n3                                               3540.0                           \n4                                               3540.0                           \n..                                                 ...                           \n418                                             5043.0                           \n419                                             5043.0                           \n420                                             5547.0                           \n421                                             5547.0                           \n422                                             5547.0                           \n\n     ЖРС_Средневзвешенная цена концентрат Fe 64-68%, Россия FCA руб./т, без НДС  \\\n0                                                  NaN                            \n1                                                  NaN                            \n2                                                  NaN                            \n3                                               2097.0                            \n4                                               2097.0                            \n..                                                 ...                            \n418                                             4382.0                            \n419                                             4382.0                            \n420                                             4898.0                            \n421                                             4898.0                            \n422                                             4898.0                            \n\n     ЖРС_Средневзвешенная цена аглоруда Fe 52-60%, Россия FCA руб./т, без НДС  \\\n0                                                  NaN                          \n1                                                  NaN                          \n2                                                  NaN                          \n3                                               1261.0                          \n4                                               1261.0                          \n..                                                 ...                          \n418                                             2577.0                          \n419                                             2577.0                          \n420                                             2921.0                          \n421                                             2921.0                          \n422                                             2921.0                          \n\n     ЖРС_Средневзвешенная цена за 1 % Fe в аглоруде, Россия FCA руб./т, без НДС  \\\n0                                                  NaN                            \n1                                                  NaN                            \n2                                                  NaN                            \n3                                                 23.0                            \n4                                                 23.0                            \n..                                                 ...                            \n418                                               50.0                            \n419                                               50.0                            \n420                                               56.0                            \n421                                               56.0                            \n422                                               56.0                            \n\n     ЖРС_Средневзвешенная цена за 1 % Fe в концентрате, Россия FCA руб./т, без НДС  \\\n0                                                  NaN                               \n1                                                  NaN                               \n2                                                  NaN                               \n3                                                  NaN                               \n4                                                  NaN                               \n..                                                 ...                               \n418                                               66.0                               \n419                                               66.0                               \n420                                               74.0                               \n421                                               74.0                               \n422                                               74.0                               \n\n     ЖРС_Средневзвешенная цена за 1 % Fe в окатыши, Россия FCA руб./т, без НДС  \\\n0                                                  NaN                           \n1                                                  NaN                           \n2                                                  NaN                           \n3                                                  NaN                           \n4                                                  NaN                           \n..                                                 ...                           \n418                                               78.0                           \n419                                               78.0                           \n420                                               85.0                           \n421                                               85.0                           \n422                                               85.0                           \n\n     ЖРС_Украинский концентрат Fe 65-68%,  DAP граница Украины с Европой,  $/т  \\\n0                                                  NaN                           \n1                                                  NaN                           \n2                                                  NaN                           \n3                                                  NaN                           \n4                                                  NaN                           \n..                                                 ...                           \n418                                              116.0                           \n419                                              116.0                           \n420                                              122.0                           \n421                                              122.0                           \n422                                              122.0                           \n\n     ЖРС_Украинские окатыши Fe 65-66%, DAP граница Украины с Европой,  $/т  \n0                                                  NaN                      \n1                                                  NaN                      \n2                                                  NaN                      \n3                                                  NaN                      \n4                                                  NaN                      \n..                                                 ...                      \n418                                              154.0                      \n419                                              154.0                      \n420                                              159.0                      \n421                                              159.0                      \n422                                              159.0                      \n\n[423 rows x 59 columns]",
      "text/html": "<div>\n<style scoped>\n    .dataframe tbody tr th:only-of-type {\n        vertical-align: middle;\n    }\n\n    .dataframe tbody tr th {\n        vertical-align: top;\n    }\n\n    .dataframe thead th {\n        text-align: right;\n    }\n</style>\n<table border=\"1\" class=\"dataframe\">\n  <thead>\n    <tr style=\"text-align: right;\">\n      <th></th>\n      <th>dt</th>\n      <th>Концентрат коксующегося угля_Россия марка ОС FCA руб./т, без НДС</th>\n      <th>Лом_HMS 1/2 80:20, FOB EC Роттердам, $/т</th>\n      <th>Лом_3А, РФ CPT ж/д Южный ФО, руб./т, без НДС</th>\n      <th>Лом_3А, РФ CPT ж/д Сибирский ФО, руб./т, без НДС</th>\n      <th>Лом_3А, РФ CPT ж/д Центральный ФО, руб./т, без НДС</th>\n      <th>ЖРС_Китай Iron ore fines Fe 62%, CFR</th>\n      <th>Чугун_CFR Италия, $/т</th>\n      <th>Концентрат коксующегося угля_Россия марка КО FCA руб./т, без НДС</th>\n      <th>ЖРС_Российские окатыши Fe 62-65,5%, SiO2 5,8-8,65, DAP Забайкальск-Манжули, $/т</th>\n      <th>...</th>\n      <th>Лом_3А, РФ FCA ж/д Свердловская обл, руб./т, без НДС</th>\n      <th>Чугун_CFR Турция, $/т</th>\n      <th>ЖРС_Средневзвешенная цена окатыши Fe 62-65,5%, Россия FCA руб./т, без НДС</th>\n      <th>ЖРС_Средневзвешенная цена концентрат Fe 64-68%, Россия FCA руб./т, без НДС</th>\n      <th>ЖРС_Средневзвешенная цена аглоруда Fe 52-60%, Россия FCA руб./т, без НДС</th>\n      <th>ЖРС_Средневзвешенная цена за 1 % Fe в аглоруде, Россия FCA руб./т, без НДС</th>\n      <th>ЖРС_Средневзвешенная цена за 1 % Fe в концентрате, Россия FCA руб./т, без НДС</th>\n      <th>ЖРС_Средневзвешенная цена за 1 % Fe в окатыши, Россия FCA руб./т, без НДС</th>\n      <th>ЖРС_Украинский концентрат Fe 65-68%,  DAP граница Украины с Европой,  $/т</th>\n      <th>ЖРС_Украинские окатыши Fe 65-66%, DAP граница Украины с Европой,  $/т</th>\n    </tr>\n  </thead>\n  <tbody>\n    <tr>\n      <th>0</th>\n      <td>2015-02-09</td>\n      <td>3850</td>\n      <td>228</td>\n      <td>12344</td>\n      <td>10009</td>\n      <td>12728</td>\n      <td>62</td>\n      <td>NaN</td>\n      <td>3700.0</td>\n      <td>70.0</td>\n      <td>...</td>\n      <td>NaN</td>\n      <td>NaN</td>\n      <td>NaN</td>\n      <td>NaN</td>\n      <td>NaN</td>\n      <td>NaN</td>\n      <td>NaN</td>\n      <td>NaN</td>\n      <td>NaN</td>\n      <td>NaN</td>\n    </tr>\n    <tr>\n      <th>1</th>\n      <td>2015-02-16</td>\n      <td>3850</td>\n      <td>206</td>\n      <td>12271</td>\n      <td>10432</td>\n      <td>12852</td>\n      <td>63</td>\n      <td>NaN</td>\n      <td>3700.0</td>\n      <td>70.0</td>\n      <td>...</td>\n      <td>NaN</td>\n      <td>NaN</td>\n      <td>NaN</td>\n      <td>NaN</td>\n      <td>NaN</td>\n      <td>NaN</td>\n      <td>NaN</td>\n      <td>NaN</td>\n      <td>NaN</td>\n      <td>NaN</td>\n    </tr>\n    <tr>\n      <th>2</th>\n      <td>2015-02-23</td>\n      <td>3850</td>\n      <td>207</td>\n      <td>12645</td>\n      <td>11981</td>\n      <td>13034</td>\n      <td>64</td>\n      <td>NaN</td>\n      <td>3700.0</td>\n      <td>72.0</td>\n      <td>...</td>\n      <td>NaN</td>\n      <td>NaN</td>\n      <td>NaN</td>\n      <td>NaN</td>\n      <td>NaN</td>\n      <td>NaN</td>\n      <td>NaN</td>\n      <td>NaN</td>\n      <td>NaN</td>\n      <td>NaN</td>\n    </tr>\n    <tr>\n      <th>3</th>\n      <td>2015-03-02</td>\n      <td>3850</td>\n      <td>214</td>\n      <td>12696</td>\n      <td>11912</td>\n      <td>12910</td>\n      <td>63</td>\n      <td>NaN</td>\n      <td>3700.0</td>\n      <td>72.0</td>\n      <td>...</td>\n      <td>NaN</td>\n      <td>NaN</td>\n      <td>3540.0</td>\n      <td>2097.0</td>\n      <td>1261.0</td>\n      <td>23.0</td>\n      <td>NaN</td>\n      <td>NaN</td>\n      <td>NaN</td>\n      <td>NaN</td>\n    </tr>\n    <tr>\n      <th>4</th>\n      <td>2015-03-09</td>\n      <td>4400</td>\n      <td>232</td>\n      <td>12916</td>\n      <td>12061</td>\n      <td>12964</td>\n      <td>61</td>\n      <td>NaN</td>\n      <td>4050.0</td>\n      <td>70.0</td>\n      <td>...</td>\n      <td>NaN</td>\n      <td>NaN</td>\n      <td>3540.0</td>\n      <td>2097.0</td>\n      <td>1261.0</td>\n      <td>23.0</td>\n      <td>NaN</td>\n      <td>NaN</td>\n      <td>NaN</td>\n      <td>NaN</td>\n    </tr>\n    <tr>\n      <th>...</th>\n      <td>...</td>\n      <td>...</td>\n      <td>...</td>\n      <td>...</td>\n      <td>...</td>\n      <td>...</td>\n      <td>...</td>\n      <td>...</td>\n      <td>...</td>\n      <td>...</td>\n      <td>...</td>\n      <td>...</td>\n      <td>...</td>\n      <td>...</td>\n      <td>...</td>\n      <td>...</td>\n      <td>...</td>\n      <td>...</td>\n      <td>...</td>\n      <td>...</td>\n      <td>...</td>\n    </tr>\n    <tr>\n      <th>418</th>\n      <td>2023-02-13</td>\n      <td>9500</td>\n      <td>399</td>\n      <td>25741</td>\n      <td>23774</td>\n      <td>24100</td>\n      <td>124</td>\n      <td>505.0</td>\n      <td>7500.0</td>\n      <td>136.5</td>\n      <td>...</td>\n      <td>22765.0</td>\n      <td>457.5</td>\n      <td>5043.0</td>\n      <td>4382.0</td>\n      <td>2577.0</td>\n      <td>50.0</td>\n      <td>66.0</td>\n      <td>78.0</td>\n      <td>116.0</td>\n      <td>154.0</td>\n    </tr>\n    <tr>\n      <th>419</th>\n      <td>2023-02-20</td>\n      <td>9500</td>\n      <td>390</td>\n      <td>25837</td>\n      <td>24060</td>\n      <td>24184</td>\n      <td>124</td>\n      <td>500.0</td>\n      <td>7500.0</td>\n      <td>137.5</td>\n      <td>...</td>\n      <td>23414.0</td>\n      <td>465.0</td>\n      <td>5043.0</td>\n      <td>4382.0</td>\n      <td>2577.0</td>\n      <td>50.0</td>\n      <td>66.0</td>\n      <td>78.0</td>\n      <td>116.0</td>\n      <td>154.0</td>\n    </tr>\n    <tr>\n      <th>420</th>\n      <td>2023-02-27</td>\n      <td>9500</td>\n      <td>411</td>\n      <td>25814</td>\n      <td>24275</td>\n      <td>24047</td>\n      <td>130</td>\n      <td>502.5</td>\n      <td>7500.0</td>\n      <td>143.0</td>\n      <td>...</td>\n      <td>24014.0</td>\n      <td>455.0</td>\n      <td>5547.0</td>\n      <td>4898.0</td>\n      <td>2921.0</td>\n      <td>56.0</td>\n      <td>74.0</td>\n      <td>85.0</td>\n      <td>122.0</td>\n      <td>159.0</td>\n    </tr>\n    <tr>\n      <th>421</th>\n      <td>2023-03-06</td>\n      <td>10000</td>\n      <td>422</td>\n      <td>25821</td>\n      <td>25347</td>\n      <td>24055</td>\n      <td>126</td>\n      <td>500.0</td>\n      <td>7500.0</td>\n      <td>139.0</td>\n      <td>...</td>\n      <td>24005.0</td>\n      <td>467.5</td>\n      <td>5547.0</td>\n      <td>4898.0</td>\n      <td>2921.0</td>\n      <td>56.0</td>\n      <td>74.0</td>\n      <td>85.0</td>\n      <td>122.0</td>\n      <td>159.0</td>\n    </tr>\n    <tr>\n      <th>422</th>\n      <td>2023-03-13</td>\n      <td>10000</td>\n      <td>426</td>\n      <td>26750</td>\n      <td>25313</td>\n      <td>25021</td>\n      <td>128</td>\n      <td>502.5</td>\n      <td>7500.0</td>\n      <td>141.0</td>\n      <td>...</td>\n      <td>24573.0</td>\n      <td>475.0</td>\n      <td>5547.0</td>\n      <td>4898.0</td>\n      <td>2921.0</td>\n      <td>56.0</td>\n      <td>74.0</td>\n      <td>85.0</td>\n      <td>122.0</td>\n      <td>159.0</td>\n    </tr>\n  </tbody>\n</table>\n<p>423 rows × 59 columns</p>\n</div>"
     },
     "execution_count": 2,
     "metadata": {},
     "output_type": "execute_result"
    }
   ],
   "source": [
    "material_price = pd.read_excel(\"data/Цены на сырье.xlsx\")\n",
    "material_price"
   ],
   "metadata": {
    "collapsed": false,
    "ExecuteTime": {
     "end_time": "2023-06-23T18:42:30.202532Z",
     "start_time": "2023-06-23T18:42:29.899244Z"
    }
   }
  },
  {
   "cell_type": "code",
   "execution_count": 7,
   "outputs": [
    {
     "data": {
      "text/plain": "Index(['dt',\n       'Концентрат коксующегося угля_Россия марка ОС FCA руб./т, без НДС',\n       'Лом_HMS 1/2 80:20, FOB EC Роттердам, $/т',\n       'Лом_3А, РФ CPT ж/д Южный ФО, руб./т, без НДС',\n       'Лом_3А, РФ CPT ж/д Сибирский ФО, руб./т, без НДС',\n       'Лом_3А, РФ CPT ж/д Центральный ФО, руб./т, без НДС',\n       'ЖРС_Китай Iron ore fines Fe 62%, CFR', 'Чугун_CFR Италия, $/т',\n       'Концентрат коксующегося угля_Россия марка КО FCA руб./т, без НДС',\n       'ЖРС_Российские окатыши Fe 62-65,5%, SiO2 5,8-8,65, DAP Забайкальск-Манжули, $/т',\n       'Лом_3А, РФ CPT авто Центральный ФО, руб./т, без НДС',\n       'Лом_3А, РФ CPT авто Уральский ФО, руб./т, без НДС',\n       'Лом_HMS 1/2 80:20, FOB США Восток, $/т',\n       'Лом_3А, FOB РФ Черное море, $/т', 'Чугун_FOB Бразилия Север, $/т',\n       'Лом_3А, РФ CPT авто Южный ФО, руб./т, без НДС',\n       'Лом_HMS 1/2 80:20, CFR ЮВА, $/т',\n       'Концентрат коксующегося угля_Россия марка КС FCA руб./т, без НДС',\n       'Лом_Б26 легированный (Ni 9,3%), РФ CPT, руб./т, без НДС',\n       'ГБЖ_Россия, FCA руб./т, без НДС',\n       'Лом_3А, РФ FCA ж/д респ. Татарстан, руб./т, без НДС',\n       'Чугун_FOB Бразилия Юг, $/т',\n       'ЖРС_Российский концентрат Fe 62,5-67,5%, SiO2 0,78-8,51, сухой вес, DAP Забайкальск-Манжули, $/т',\n       'Концентрат коксующегося угля_Россия марка К и смеси марок К, КО FCA руб./т, без НДС',\n       'Чугун_FOB Россия Дальневосточные порты, $/т',\n       'Кокс_Россия Урал Сибирь +25, FCA руб./т., без НДС',\n       'Лом_3А, РФ FCA ж/д Московский регион, руб./т, без НДС',\n       'Концентрат коксующегося угля_Россия марка Ж+ГЖ FCA руб./т, без НДС',\n       'Чугун_FOB Россия Черное море, $/т',\n       'Лом_3А, РФ FCA ж/д Кемеровская обл, руб./т, без НДС',\n       'ЖРС_Россия аглоруда Fe 52-60%, FCA руб./т, без НДС',\n       'ЖРС_Россия концентрат Fe 64-68%, FCA руб./т, без НДС',\n       'Чугун_Россия, FCA руб./т, без НДС',\n       'Концентрат коксующегося угля_HCC Австралия, $/t FOB',\n       'ЖРС_Россия окатыши Fe 62-65,5% FCA руб./т, без НДС',\n       'ГБЖ_CFR Италия, $/т',\n       'Лом_3А, РФ CPT ж/д Уральский ФО, руб./т, без НДС',\n       'Концентрат коксующегося угля_Россия марка Ж FCA руб./т, без НДС',\n       'Чугун_CFR Западная Европа, $/т',\n       'Лом_3А, РФ FCA ж/д Челябинская обл, руб./т, без НДС',\n       'Лом_3А, РФ FCA ж/д ХМАО, руб./т, без НДС',\n       'Лом_HMS 1/2 80:20, CFR Турция, $/т', 'Чугун_CFR Китай, $/т',\n       'Лом_3А, РФ FCA ж/д Самарская обл, руб./т, без НДС',\n       'Концентрат коксующегося угля_Средняя шихта Россия FCA руб./т, без НДС',\n       'Концентрат коксующегося угля_Россия марка ГЖ FCA руб./т, без НДС',\n       'Лом_3А, РФ FCA ж/д Нижегородская обл, руб./т, без НДС',\n       'Чугун_CFR NOLA США, $/т',\n       'Лом_3А, РФ FCA ж/д Новосибирская обл, руб./т, без НДС',\n       'Лом_3А, РФ FCA ж/д Свердловская обл, руб./т, без НДС',\n       'Чугун_CFR Турция, $/т',\n       'ЖРС_Средневзвешенная цена окатыши Fe 62-65,5%, Россия FCA руб./т, без НДС',\n       'ЖРС_Средневзвешенная цена концентрат Fe 64-68%, Россия FCA руб./т, без НДС',\n       'ЖРС_Средневзвешенная цена аглоруда Fe 52-60%, Россия FCA руб./т, без НДС',\n       'ЖРС_Средневзвешенная цена за 1 % Fe в аглоруде, Россия FCA руб./т, без НДС',\n       'ЖРС_Средневзвешенная цена за 1 % Fe в концентрате, Россия FCA руб./т, без НДС',\n       'ЖРС_Средневзвешенная цена за 1 % Fe в окатыши, Россия FCA руб./т, без НДС',\n       'ЖРС_Украинский концентрат Fe 65-68%,  DAP граница Украины с Европой,  $/т',\n       'ЖРС_Украинские окатыши Fe 65-66%, DAP граница Украины с Европой,  $/т'],\n      dtype='object')"
     },
     "execution_count": 7,
     "metadata": {},
     "output_type": "execute_result"
    }
   ],
   "source": [
    "columns = material_price.columns\n",
    "columns.unique()"
   ],
   "metadata": {
    "collapsed": false,
    "ExecuteTime": {
     "end_time": "2023-06-23T21:00:41.546662Z",
     "start_time": "2023-06-23T21:00:41.545074Z"
    }
   }
  },
  {
   "cell_type": "code",
   "execution_count": 4,
   "outputs": [
    {
     "name": "stdout",
     "output_type": "stream",
     "text": [
      "dt\n",
      "Концентрат коксующегося угля_Россия марка ОС FCA руб./т, без НДС\n",
      "Лом_HMS 1/2 80:20, FOB EC Роттердам, $/т\n",
      "Лом_3А, РФ CPT ж/д Южный ФО, руб./т, без НДС\n",
      "Лом_3А, РФ CPT ж/д Сибирский ФО, руб./т, без НДС\n",
      "Лом_3А, РФ CPT ж/д Центральный ФО, руб./т, без НДС\n",
      "ЖРС_Китай Iron ore fines Fe 62%, CFR\n",
      "Чугун_CFR Италия, $/т\n",
      "Концентрат коксующегося угля_Россия марка КО FCA руб./т, без НДС\n",
      "ЖРС_Российские окатыши Fe 62-65,5%, SiO2 5,8-8,65, DAP Забайкальск-Манжули, $/т\n",
      "Лом_3А, РФ CPT авто Центральный ФО, руб./т, без НДС\n",
      "Лом_3А, РФ CPT авто Уральский ФО, руб./т, без НДС\n",
      "Лом_HMS 1/2 80:20, FOB США Восток, $/т\n",
      "Лом_3А, FOB РФ Черное море, $/т\n",
      "Чугун_FOB Бразилия Север, $/т\n",
      "Лом_3А, РФ CPT авто Южный ФО, руб./т, без НДС\n",
      "Лом_HMS 1/2 80:20, CFR ЮВА, $/т\n",
      "Концентрат коксующегося угля_Россия марка КС FCA руб./т, без НДС\n",
      "Лом_Б26 легированный (Ni 9,3%), РФ CPT, руб./т, без НДС\n",
      "ГБЖ_Россия, FCA руб./т, без НДС\n",
      "Лом_3А, РФ FCA ж/д респ. Татарстан, руб./т, без НДС\n",
      "Чугун_FOB Бразилия Юг, $/т\n",
      "ЖРС_Российский концентрат Fe 62,5-67,5%, SiO2 0,78-8,51, сухой вес, DAP Забайкальск-Манжули, $/т\n",
      "Концентрат коксующегося угля_Россия марка К и смеси марок К, КО FCA руб./т, без НДС\n",
      "Чугун_FOB Россия Дальневосточные порты, $/т\n",
      "Кокс_Россия Урал Сибирь +25, FCA руб./т., без НДС\n",
      "Лом_3А, РФ FCA ж/д Московский регион, руб./т, без НДС\n",
      "Концентрат коксующегося угля_Россия марка Ж+ГЖ FCA руб./т, без НДС\n",
      "Чугун_FOB Россия Черное море, $/т\n",
      "Лом_3А, РФ FCA ж/д Кемеровская обл, руб./т, без НДС\n",
      "ЖРС_Россия аглоруда Fe 52-60%, FCA руб./т, без НДС\n",
      "ЖРС_Россия концентрат Fe 64-68%, FCA руб./т, без НДС\n",
      "Чугун_Россия, FCA руб./т, без НДС\n",
      "Концентрат коксующегося угля_HCC Австралия, $/t FOB\n",
      "ЖРС_Россия окатыши Fe 62-65,5% FCA руб./т, без НДС\n",
      "ГБЖ_CFR Италия, $/т\n",
      "Лом_3А, РФ CPT ж/д Уральский ФО, руб./т, без НДС\n",
      "Концентрат коксующегося угля_Россия марка Ж FCA руб./т, без НДС\n",
      "Чугун_CFR Западная Европа, $/т\n",
      "Лом_3А, РФ FCA ж/д Челябинская обл, руб./т, без НДС\n",
      "Лом_3А, РФ FCA ж/д ХМАО, руб./т, без НДС\n",
      "Лом_HMS 1/2 80:20, CFR Турция, $/т\n",
      "Чугун_CFR Китай, $/т\n",
      "Лом_3А, РФ FCA ж/д Самарская обл, руб./т, без НДС\n",
      "Концентрат коксующегося угля_Средняя шихта Россия FCA руб./т, без НДС\n",
      "Концентрат коксующегося угля_Россия марка ГЖ FCA руб./т, без НДС\n",
      "Лом_3А, РФ FCA ж/д Нижегородская обл, руб./т, без НДС\n",
      "Чугун_CFR NOLA США, $/т\n",
      "Лом_3А, РФ FCA ж/д Новосибирская обл, руб./т, без НДС\n",
      "Лом_3А, РФ FCA ж/д Свердловская обл, руб./т, без НДС\n",
      "Чугун_CFR Турция, $/т\n",
      "ЖРС_Средневзвешенная цена окатыши Fe 62-65,5%, Россия FCA руб./т, без НДС\n",
      "ЖРС_Средневзвешенная цена концентрат Fe 64-68%, Россия FCA руб./т, без НДС\n",
      "ЖРС_Средневзвешенная цена аглоруда Fe 52-60%, Россия FCA руб./т, без НДС\n",
      "ЖРС_Средневзвешенная цена за 1 % Fe в аглоруде, Россия FCA руб./т, без НДС\n",
      "ЖРС_Средневзвешенная цена за 1 % Fe в концентрате, Россия FCA руб./т, без НДС\n",
      "ЖРС_Средневзвешенная цена за 1 % Fe в окатыши, Россия FCA руб./т, без НДС\n",
      "ЖРС_Украинский концентрат Fe 65-68%,  DAP граница Украины с Европой,  $/т\n",
      "ЖРС_Украинские окатыши Fe 65-66%, DAP граница Украины с Европой,  $/т\n"
     ]
    }
   ],
   "source": [
    "for col in columns:\n",
    "    print(col)"
   ],
   "metadata": {
    "collapsed": false,
    "ExecuteTime": {
     "end_time": "2023-06-23T18:44:23.399508Z",
     "start_time": "2023-06-23T18:44:23.395915Z"
    }
   }
  },
  {
   "cell_type": "code",
   "execution_count": 32,
   "outputs": [],
   "source": [
    "material_price_columns_renamed = [\n",
    "    \"coking_coil_russia_oc_rub_tonn_ship_fca\",\n",
    "    \"scrap_hms_rotterdam_dollar_tonn_ship_fob\",\n",
    "    \"scrap_3a_south_rub_tonn_train_cpt\",\n",
    "    \"scrap_3a_siberia_rub_tonn_train_cpt\",\n",
    "    \"scrap_3a_central_rub_tonn_train_cpt\",\n",
    "    \"iron_china_ship_cfr\",\n",
    "    \"cast_iron_italy_dollar_tonn_ship_cfr\",\n",
    "    \"coking_coil_russia_ko_rub_tonn_ship_fca\",\n",
    "    \"iron_pellets_russia_east_dollar_tonn_dap\",\n",
    "    \"scrap_3a_russia_central_rub_tonn_auto_cpt\",\n",
    "    \"scrap_3a_russia_ural_rub_tonn_auto_cpt\",\n",
    "    \"scrap_hms_usa_dollar_tonn_ship_fob\",\n",
    "    \"scrap_3a_russia_south_dollar_tonn_ship_fob\",\n",
    "    \"cast_iron_brasil_north_dollar_tonn_ship_fob\",\n",
    "    \"scrap_3a_russia_south_rub_tonn_auto_cpt\",\n",
    "    \"scrap_hms_uva_dollar_tonn_ship_cfr\",\n",
    "    \"coking_coil_russia_kc_rub_tonn_ship_fca\",\n",
    "    \"scrap_b26_alloyed_russia_rub_tonn_ship_cpt\",\n",
    "    \"iron_russia_rub_tonn_ship_fca\",\n",
    "    \"scrap_3a_russia_tatar_rub_tonn_fca\",\n",
    "    \"cast_iron_brasil_south_dollar_tonn_ship_fob\",\n",
    "    \"iron_concentrate_russia_east_dollar_tonn_ship_dap\",\n",
    "    \"coking_coil_k_russia_ko_rub_tonn_ship_fca\",\n",
    "    \"cast_iron_russia_east_dollar_tonn_fob\",\n",
    "    \"coking_coil_russia_siberia_rub_tonn_ship_fca\",\n",
    "    \"scrap_3a_russia_moscow_rub_tonn_train_fca\",\n",
    "    \"coking_coil_russia_rub_tonn_ship_fca\",\n",
    "    \"cast_iron_russia_south_dollar_tonn_ship_fob\",\n",
    "    \"scrap_3a_russia_siberia_rub_tonn_train_fca\",\n",
    "    \"iron_agloruda_russia_rub_tonn_ship_fca\",\n",
    "    \"iron_concentrate_russia_rub_tonn_ship_fca\",\n",
    "    \"cast_iron_russia_rub_tonn_ship_fca\",\n",
    "    \"coking_coil_australia_dollar_tonn_ship_fob\",\n",
    "    \"iron_pellets_russia_rub_tonn_ship_fca\",\n",
    "    \"iron_itally_dollar_tonn_ship_cfr\",\n",
    "    \"scrap_3a_russia_ural_rub_tonn_ship_cpt\",\n",
    "    \"coking_coil_russia_rub_tonn_ship_fca\",\n",
    "    \"cast_iron_europe_dollar_tonn_ship_cfr\",\n",
    "    \"scrap_3a_russia_ural_rub_tonn_ship_fca\",\n",
    "    \"scrap_3a_russia_north_rub_tonn_ship_fca\",\n",
    "    \"scrap_hms_turkey_dollar_tonn_ship_cfr\",\n",
    "    \"cast_iron_china_dollar_tonn_ship_cfr\",\n",
    "    \"scrap_3a_russia_central_rub_tonn_ship_fca\",\n",
    "    \"coking_coil_average_size_russia_rub_tonn_ship_fca\",\n",
    "    \"coking_coil_russia_rub_tonn_ship_fca\",\n",
    "    \"scrap_3a_russia_central_rub_tonn_ship_fca\",\n",
    "    \"cast_iron_usa_dollar_tonn_ship_cfr\",\n",
    "    \"scrap_3a_russia_siberia_rub_tonn_ship_fca\",\n",
    "    \"scrap_3a_russia_ural_rub_tonn_ship_fca\",\n",
    "    \"cast_iron_turkey_dollar_tonn_ship_cfr\",\n",
    "    \"iron_pellets_weighted_average_russia_rub_tonn_ship_fca\",\n",
    "    \"iron_concentrate_weighted_average_russia_rub_tonn_ship_fca\",\n",
    "    \"iron_agloruda_weighted_average_percent_russia_rub_tonn_ship_fca\",\n",
    "    \"iron_agloruda_weighted_average_percent_russia_rub_tonn_ship_fca\",\n",
    "    \"iron_concentrate_weighted_average_percent_russia_rub_tonn_ship_fca\",\n",
    "    \"iron_pellets_weighted_average_percent_russia_rub_tonn_ship_fca\",\n",
    "    \"iron_concentrate_ukraine_dollar_tonn_ship_dap\",\n",
    "    \"iron_pellets_ukraine_dollar_tonn_ship_dap\",\n",
    "]"
   ],
   "metadata": {
    "collapsed": false,
    "ExecuteTime": {
     "end_time": "2023-06-23T22:09:34.801654Z",
     "start_time": "2023-06-23T22:09:34.798555Z"
    }
   }
  },
  {
   "cell_type": "code",
   "execution_count": 13,
   "outputs": [],
   "source": [
    "columns = columns.drop(\"dt\")"
   ],
   "metadata": {
    "collapsed": false,
    "ExecuteTime": {
     "end_time": "2023-06-23T21:39:28.341478Z",
     "start_time": "2023-06-23T21:39:28.337274Z"
    }
   }
  },
  {
   "cell_type": "code",
   "execution_count": 33,
   "outputs": [],
   "source": [
    "material_price_to_rename: dict[str] = {}\n",
    "for old, new in zip(columns, material_price_columns_renamed):\n",
    "    material_price_to_rename[old] = new"
   ],
   "metadata": {
    "collapsed": false,
    "ExecuteTime": {
     "end_time": "2023-06-23T22:09:40.104955Z",
     "start_time": "2023-06-23T22:09:40.100336Z"
    }
   }
  },
  {
   "cell_type": "code",
   "execution_count": 34,
   "outputs": [],
   "source": [
    "renamed_material_price = material_price.rename(columns=material_price_to_rename)"
   ],
   "metadata": {
    "collapsed": false,
    "ExecuteTime": {
     "end_time": "2023-06-23T22:09:50.577621Z",
     "start_time": "2023-06-23T22:09:50.569141Z"
    }
   }
  },
  {
   "cell_type": "code",
   "execution_count": 53,
   "outputs": [
    {
     "data": {
      "text/plain": "(54,)"
     },
     "execution_count": 53,
     "metadata": {},
     "output_type": "execute_result"
    }
   ],
   "source": [
    "renamed_material_price.columns.unique().shape"
   ],
   "metadata": {
    "collapsed": false,
    "ExecuteTime": {
     "end_time": "2023-06-23T22:41:53.746505Z",
     "start_time": "2023-06-23T22:41:53.743027Z"
    }
   }
  },
  {
   "cell_type": "code",
   "execution_count": 46,
   "outputs": [
    {
     "data": {
      "text/plain": "Index(['dt', 'coking_coil_russia_oc_rub_tonn_ship_fca',\n       'scrap_hms_rotterdam_dollar_tonn_ship_fob',\n       'scrap_3a_south_rub_tonn_train_cpt',\n       'scrap_3a_siberia_rub_tonn_train_cpt',\n       'scrap_3a_central_rub_tonn_train_cpt', 'iron_china_ship_cfr',\n       'cast_iron_italy_dollar_tonn_ship_cfr',\n       'coking_coil_russia_ko_rub_tonn_ship_fca',\n       'iron_pellets_russia_east_dollar_tonn_dap',\n       'scrap_3a_russia_central_rub_tonn_auto_cpt',\n       'scrap_3a_russia_ural_rub_tonn_auto_cpt',\n       'scrap_hms_usa_dollar_tonn_ship_fob',\n       'scrap_3a_russia_south_dollar_tonn_ship_fob',\n       'cast_iron_brasil_north_dollar_tonn_ship_fob',\n       'scrap_3a_russia_south_rub_tonn_auto_cpt',\n       'scrap_hms_uva_dollar_tonn_ship_cfr',\n       'coking_coil_russia_kc_rub_tonn_ship_fca',\n       'scrap_b26_alloyed_russia_rub_tonn_ship_cpt',\n       'iron_russia_rub_tonn_ship_fca', 'scrap_3a_russia_tatar_rub_tonn_fca',\n       'cast_iron_brasil_south_dollar_tonn_ship_fob',\n       'iron_concentrate_russia_east_dollar_tonn_ship_dap',\n       'coking_coil_k_russia_ko_rub_tonn_ship_fca',\n       'cast_iron_russia_east_dollar_tonn_fob',\n       'coking_coil_russia_siberia_rub_tonn_ship_fca',\n       'scrap_3a_russia_moscow_rub_tonn_train_fca',\n       'coking_coil_russia_rub_tonn_ship_fca',\n       'cast_iron_russia_south_dollar_tonn_ship_fob',\n       'scrap_3a_russia_siberia_rub_tonn_train_fca',\n       'iron_agloruda_russia_rub_tonn_ship_fca',\n       'iron_concentrate_russia_rub_tonn_ship_fca',\n       'cast_iron_russia_rub_tonn_ship_fca',\n       'coking_coil_australia_dollar_tonn_ship_fob',\n       'iron_pellets_russia_rub_tonn_ship_fca',\n       'iron_itally_dollar_tonn_ship_cfr',\n       'scrap_3a_russia_ural_rub_tonn_ship_cpt',\n       'coking_coil_russia_rub_tonn_ship_fca',\n       'cast_iron_europe_dollar_tonn_ship_cfr',\n       'scrap_3a_russia_ural_rub_tonn_ship_fca',\n       'scrap_3a_russia_north_rub_tonn_ship_fca',\n       'scrap_hms_turkey_dollar_tonn_ship_cfr',\n       'cast_iron_china_dollar_tonn_ship_cfr',\n       'scrap_3a_russia_central_rub_tonn_ship_fca',\n       'coking_coil_average_size_russia_rub_tonn_ship_fca',\n       'coking_coil_russia_rub_tonn_ship_fca',\n       'scrap_3a_russia_central_rub_tonn_ship_fca',\n       'cast_iron_usa_dollar_tonn_ship_cfr',\n       'scrap_3a_russia_siberia_rub_tonn_ship_fca',\n       'scrap_3a_russia_ural_rub_tonn_ship_fca',\n       'cast_iron_turkey_dollar_tonn_ship_cfr',\n       'iron_pellets_weighted_average_russia_rub_tonn_ship_fca',\n       'iron_concentrate_weighted_average_russia_rub_tonn_ship_fca',\n       'iron_agloruda_weighted_average_percent_russia_rub_tonn_ship_fca',\n       'iron_agloruda_weighted_average_percent_russia_rub_tonn_ship_fca',\n       'iron_concentrate_weighted_average_percent_russia_rub_tonn_ship_fca',\n       'iron_pellets_weighted_average_percent_russia_rub_tonn_ship_fca',\n       'iron_concentrate_ukraine_dollar_tonn_ship_dap',\n       'iron_pellets_ukraine_dollar_tonn_ship_dap'],\n      dtype='object')"
     },
     "execution_count": 46,
     "metadata": {},
     "output_type": "execute_result"
    }
   ],
   "source": [
    "renamed_material_price.columns"
   ],
   "metadata": {
    "collapsed": false,
    "ExecuteTime": {
     "end_time": "2023-06-23T22:38:22.212494Z",
     "start_time": "2023-06-23T22:38:22.208241Z"
    }
   }
  },
  {
   "cell_type": "code",
   "execution_count": 54,
   "outputs": [
    {
     "name": "stdout",
     "output_type": "stream",
     "text": [
      "11\n",
      "9\n",
      "16\n",
      "21\n"
     ]
    }
   ],
   "source": [
    "material_categories = [\n",
    "    \"cast_iron_\",\n",
    "    \"coking_coil_\",\n",
    "    \"iron_\",\n",
    "    \"scrap_\"\n",
    "]\n",
    "\n",
    "cast_iron = list({str(col) for col in renamed_material_price.columns.tolist() if str(col).startswith(material_categories[0])})\n",
    "cast_iron.append(\"dt\")\n",
    "coking_coil = list({str(col) for col in renamed_material_price.columns.tolist() if str(col).startswith(material_categories[1])})\n",
    "coking_coil.append(\"dt\")\n",
    "iron = list({str(col) for col in renamed_material_price.columns.tolist() if str(col).startswith(material_categories[2])})\n",
    "iron.append(\"dt\")\n",
    "scrap = list({str(col) for col in renamed_material_price.columns.tolist() if str(col).startswith(material_categories[3])})\n",
    "scrap.append(\"dt\")\n",
    "print(len(set(cast_iron) & set(renamed_material_price.columns.tolist())))\n",
    "print(len(set(coking_coil) & set(renamed_material_price.columns.tolist())))\n",
    "print(len(set(iron) & set(renamed_material_price.columns.tolist())))\n",
    "print(len(set(scrap) & set(renamed_material_price.columns.tolist())))"
   ],
   "metadata": {
    "collapsed": false,
    "ExecuteTime": {
     "end_time": "2023-06-23T22:44:21.600541Z",
     "start_time": "2023-06-23T22:44:21.594295Z"
    }
   }
  },
  {
   "cell_type": "code",
   "execution_count": 55,
   "outputs": [],
   "source": [
    "cast_iron_data = renamed_material_price[cast_iron]\n",
    "coking_coil_data = renamed_material_price[coking_coil]\n",
    "iron_data = renamed_material_price[iron]\n",
    "scrap_data = renamed_material_price[scrap]"
   ],
   "metadata": {
    "collapsed": false,
    "ExecuteTime": {
     "end_time": "2023-06-23T22:44:23.924854Z",
     "start_time": "2023-06-23T22:44:23.920088Z"
    }
   }
  },
  {
   "cell_type": "code",
   "execution_count": 60,
   "outputs": [
    {
     "data": {
      "text/plain": "     cast_iron_europe_dollar_tonn_ship_cfr  \\\n0                                      NaN   \n1                                      NaN   \n2                                      NaN   \n3                                      NaN   \n4                                      NaN   \n..                                     ...   \n418                                  535.0   \n419                                  550.0   \n420                                  552.5   \n421                                  552.5   \n422                                  555.0   \n\n     cast_iron_brasil_south_dollar_tonn_ship_fob  \\\n0                                            NaN   \n1                                            NaN   \n2                                            NaN   \n3                                            NaN   \n4                                            NaN   \n..                                           ...   \n418                                        490.0   \n419                                        495.0   \n420                                        500.0   \n421                                        505.0   \n422                                        520.0   \n\n     cast_iron_russia_rub_tonn_ship_fca  \\\n0                                 21250   \n1                                 21250   \n2                                 21250   \n3                                 21250   \n4                                 15250   \n..                                  ...   \n418                               24000   \n419                               24000   \n420                               24000   \n421                               25500   \n422                               25500   \n\n     cast_iron_turkey_dollar_tonn_ship_cfr  \\\n0                                      NaN   \n1                                      NaN   \n2                                      NaN   \n3                                      NaN   \n4                                      NaN   \n..                                     ...   \n418                                  457.5   \n419                                  465.0   \n420                                  455.0   \n421                                  467.5   \n422                                  475.0   \n\n     cast_iron_russia_south_dollar_tonn_ship_fob  \\\n0                                            297   \n1                                            278   \n2                                            265   \n3                                            265   \n4                                            265   \n..                                           ...   \n418                                          415   \n419                                          423   \n420                                          423   \n421                                          430   \n422                                          452   \n\n     cast_iron_italy_dollar_tonn_ship_cfr  cast_iron_usa_dollar_tonn_ship_cfr  \\\n0                                     NaN                                 NaN   \n1                                     NaN                                 NaN   \n2                                     NaN                                 NaN   \n3                                     NaN                                 NaN   \n4                                     NaN                                 NaN   \n..                                    ...                                 ...   \n418                                 505.0                               516.0   \n419                                 500.0                               525.0   \n420                                 502.5                               532.5   \n421                                 500.0                               550.0   \n422                                 502.5                               555.0   \n\n     cast_iron_russia_east_dollar_tonn_fob  \\\n0                                      NaN   \n1                                      NaN   \n2                                      NaN   \n3                                      NaN   \n4                                      NaN   \n..                                     ...   \n418                                  488.0   \n419                                  410.0   \n420                                  450.0   \n421                                  450.0   \n422                                  480.0   \n\n     cast_iron_brasil_north_dollar_tonn_ship_fob  \\\n0                                            338   \n1                                            308   \n2                                            295   \n3                                            295   \n4                                            275   \n..                                           ...   \n418                                          500   \n419                                          505   \n420                                          510   \n421                                          520   \n422                                          530   \n\n     cast_iron_china_dollar_tonn_ship_cfr         dt  \n0                                     NaN 2015-02-09  \n1                                     NaN 2015-02-16  \n2                                     NaN 2015-02-23  \n3                                     NaN 2015-03-02  \n4                                     NaN 2015-03-09  \n..                                    ...        ...  \n418                                 445.0 2023-02-13  \n419                                 447.5 2023-02-20  \n420                                 455.0 2023-02-27  \n421                                 447.5 2023-03-06  \n422                                 447.5 2023-03-13  \n\n[423 rows x 11 columns]",
      "text/html": "<div>\n<style scoped>\n    .dataframe tbody tr th:only-of-type {\n        vertical-align: middle;\n    }\n\n    .dataframe tbody tr th {\n        vertical-align: top;\n    }\n\n    .dataframe thead th {\n        text-align: right;\n    }\n</style>\n<table border=\"1\" class=\"dataframe\">\n  <thead>\n    <tr style=\"text-align: right;\">\n      <th></th>\n      <th>cast_iron_europe_dollar_tonn_ship_cfr</th>\n      <th>cast_iron_brasil_south_dollar_tonn_ship_fob</th>\n      <th>cast_iron_russia_rub_tonn_ship_fca</th>\n      <th>cast_iron_turkey_dollar_tonn_ship_cfr</th>\n      <th>cast_iron_russia_south_dollar_tonn_ship_fob</th>\n      <th>cast_iron_italy_dollar_tonn_ship_cfr</th>\n      <th>cast_iron_usa_dollar_tonn_ship_cfr</th>\n      <th>cast_iron_russia_east_dollar_tonn_fob</th>\n      <th>cast_iron_brasil_north_dollar_tonn_ship_fob</th>\n      <th>cast_iron_china_dollar_tonn_ship_cfr</th>\n      <th>dt</th>\n    </tr>\n  </thead>\n  <tbody>\n    <tr>\n      <th>0</th>\n      <td>NaN</td>\n      <td>NaN</td>\n      <td>21250</td>\n      <td>NaN</td>\n      <td>297</td>\n      <td>NaN</td>\n      <td>NaN</td>\n      <td>NaN</td>\n      <td>338</td>\n      <td>NaN</td>\n      <td>2015-02-09</td>\n    </tr>\n    <tr>\n      <th>1</th>\n      <td>NaN</td>\n      <td>NaN</td>\n      <td>21250</td>\n      <td>NaN</td>\n      <td>278</td>\n      <td>NaN</td>\n      <td>NaN</td>\n      <td>NaN</td>\n      <td>308</td>\n      <td>NaN</td>\n      <td>2015-02-16</td>\n    </tr>\n    <tr>\n      <th>2</th>\n      <td>NaN</td>\n      <td>NaN</td>\n      <td>21250</td>\n      <td>NaN</td>\n      <td>265</td>\n      <td>NaN</td>\n      <td>NaN</td>\n      <td>NaN</td>\n      <td>295</td>\n      <td>NaN</td>\n      <td>2015-02-23</td>\n    </tr>\n    <tr>\n      <th>3</th>\n      <td>NaN</td>\n      <td>NaN</td>\n      <td>21250</td>\n      <td>NaN</td>\n      <td>265</td>\n      <td>NaN</td>\n      <td>NaN</td>\n      <td>NaN</td>\n      <td>295</td>\n      <td>NaN</td>\n      <td>2015-03-02</td>\n    </tr>\n    <tr>\n      <th>4</th>\n      <td>NaN</td>\n      <td>NaN</td>\n      <td>15250</td>\n      <td>NaN</td>\n      <td>265</td>\n      <td>NaN</td>\n      <td>NaN</td>\n      <td>NaN</td>\n      <td>275</td>\n      <td>NaN</td>\n      <td>2015-03-09</td>\n    </tr>\n    <tr>\n      <th>...</th>\n      <td>...</td>\n      <td>...</td>\n      <td>...</td>\n      <td>...</td>\n      <td>...</td>\n      <td>...</td>\n      <td>...</td>\n      <td>...</td>\n      <td>...</td>\n      <td>...</td>\n      <td>...</td>\n    </tr>\n    <tr>\n      <th>418</th>\n      <td>535.0</td>\n      <td>490.0</td>\n      <td>24000</td>\n      <td>457.5</td>\n      <td>415</td>\n      <td>505.0</td>\n      <td>516.0</td>\n      <td>488.0</td>\n      <td>500</td>\n      <td>445.0</td>\n      <td>2023-02-13</td>\n    </tr>\n    <tr>\n      <th>419</th>\n      <td>550.0</td>\n      <td>495.0</td>\n      <td>24000</td>\n      <td>465.0</td>\n      <td>423</td>\n      <td>500.0</td>\n      <td>525.0</td>\n      <td>410.0</td>\n      <td>505</td>\n      <td>447.5</td>\n      <td>2023-02-20</td>\n    </tr>\n    <tr>\n      <th>420</th>\n      <td>552.5</td>\n      <td>500.0</td>\n      <td>24000</td>\n      <td>455.0</td>\n      <td>423</td>\n      <td>502.5</td>\n      <td>532.5</td>\n      <td>450.0</td>\n      <td>510</td>\n      <td>455.0</td>\n      <td>2023-02-27</td>\n    </tr>\n    <tr>\n      <th>421</th>\n      <td>552.5</td>\n      <td>505.0</td>\n      <td>25500</td>\n      <td>467.5</td>\n      <td>430</td>\n      <td>500.0</td>\n      <td>550.0</td>\n      <td>450.0</td>\n      <td>520</td>\n      <td>447.5</td>\n      <td>2023-03-06</td>\n    </tr>\n    <tr>\n      <th>422</th>\n      <td>555.0</td>\n      <td>520.0</td>\n      <td>25500</td>\n      <td>475.0</td>\n      <td>452</td>\n      <td>502.5</td>\n      <td>555.0</td>\n      <td>480.0</td>\n      <td>530</td>\n      <td>447.5</td>\n      <td>2023-03-13</td>\n    </tr>\n  </tbody>\n</table>\n<p>423 rows × 11 columns</p>\n</div>"
     },
     "execution_count": 60,
     "metadata": {},
     "output_type": "execute_result"
    }
   ],
   "source": [
    "cast_iron_data"
   ],
   "metadata": {
    "collapsed": false,
    "ExecuteTime": {
     "end_time": "2023-06-23T22:44:45.820104Z",
     "start_time": "2023-06-23T22:44:45.809661Z"
    }
   }
  },
  {
   "cell_type": "code",
   "execution_count": 59,
   "outputs": [
    {
     "data": {
      "text/plain": "     coking_coil_russia_kc_rub_tonn_ship_fca  \\\n0                                       3300   \n1                                       3300   \n2                                       3300   \n3                                       3300   \n4                                       3750   \n..                                       ...   \n418                                     7750   \n419                                     7750   \n420                                     7750   \n421                                     8000   \n422                                     8000   \n\n     coking_coil_k_russia_ko_rub_tonn_ship_fca  \\\n0                                         4500   \n1                                         4500   \n2                                         4500   \n3                                         4500   \n4                                         4700   \n..                                         ...   \n418                                      11250   \n419                                      11250   \n420                                      11250   \n421                                      11250   \n422                                      11250   \n\n     coking_coil_russia_rub_tonn_ship_fca  \\\n0                                    4300   \n1                                    4300   \n2                                    4300   \n3                                    4300   \n4                                    4100   \n..                                    ...   \n418                                  8850   \n419                                  8850   \n420                                  8850   \n421                                  8850   \n422                                  8850   \n\n     coking_coil_russia_rub_tonn_ship_fca  \\\n0                                  4700.0   \n1                                  4700.0   \n2                                  4700.0   \n3                                  4700.0   \n4                                  4700.0   \n..                                    ...   \n418                               10200.0   \n419                               10200.0   \n420                               10200.0   \n421                               10200.0   \n422                               10200.0   \n\n     coking_coil_russia_rub_tonn_ship_fca  \\\n0                                  3350.0   \n1                                  3350.0   \n2                                  3350.0   \n3                                  3350.0   \n4                                  3525.0   \n..                                    ...   \n418                                7500.0   \n419                                7500.0   \n420                                7500.0   \n421                                7500.0   \n422                                7500.0   \n\n     coking_coil_australia_dollar_tonn_ship_fob  \\\n0                                           106   \n1                                           106   \n2                                           103   \n3                                           103   \n4                                           103   \n..                                          ...   \n418                                         352   \n419                                         367   \n420                                         362   \n421                                         348   \n422                                         354   \n\n     coking_coil_average_size_russia_rub_tonn_ship_fca  \\\n0                                                 3890   \n1                                                 3890   \n2                                                 3890   \n3                                                 3890   \n4                                                 4164   \n..                                                 ...   \n418                                               9010   \n419                                               9010   \n420                                               9010   \n421                                               9090   \n422                                               9090   \n\n     coking_coil_russia_siberia_rub_tonn_ship_fca  \\\n0                                            6900   \n1                                            6900   \n2                                            6900   \n3                                            6900   \n4                                            8750   \n..                                            ...   \n418                                         17500   \n419                                         17500   \n420                                         17500   \n421                                         18750   \n422                                         18750   \n\n     coking_coil_russia_oc_rub_tonn_ship_fca  \\\n0                                       3850   \n1                                       3850   \n2                                       3850   \n3                                       3850   \n4                                       4400   \n..                                       ...   \n418                                     9500   \n419                                     9500   \n420                                     9500   \n421                                    10000   \n422                                    10000   \n\n     coking_coil_russia_ko_rub_tonn_ship_fca         dt  \n0                                     3700.0 2015-02-09  \n1                                     3700.0 2015-02-16  \n2                                     3700.0 2015-02-23  \n3                                     3700.0 2015-03-02  \n4                                     4050.0 2015-03-09  \n..                                       ...        ...  \n418                                   7500.0 2023-02-13  \n419                                   7500.0 2023-02-20  \n420                                   7500.0 2023-02-27  \n421                                   7500.0 2023-03-06  \n422                                   7500.0 2023-03-13  \n\n[423 rows x 11 columns]",
      "text/html": "<div>\n<style scoped>\n    .dataframe tbody tr th:only-of-type {\n        vertical-align: middle;\n    }\n\n    .dataframe tbody tr th {\n        vertical-align: top;\n    }\n\n    .dataframe thead th {\n        text-align: right;\n    }\n</style>\n<table border=\"1\" class=\"dataframe\">\n  <thead>\n    <tr style=\"text-align: right;\">\n      <th></th>\n      <th>coking_coil_russia_kc_rub_tonn_ship_fca</th>\n      <th>coking_coil_k_russia_ko_rub_tonn_ship_fca</th>\n      <th>coking_coil_russia_rub_tonn_ship_fca</th>\n      <th>coking_coil_russia_rub_tonn_ship_fca</th>\n      <th>coking_coil_russia_rub_tonn_ship_fca</th>\n      <th>coking_coil_australia_dollar_tonn_ship_fob</th>\n      <th>coking_coil_average_size_russia_rub_tonn_ship_fca</th>\n      <th>coking_coil_russia_siberia_rub_tonn_ship_fca</th>\n      <th>coking_coil_russia_oc_rub_tonn_ship_fca</th>\n      <th>coking_coil_russia_ko_rub_tonn_ship_fca</th>\n      <th>dt</th>\n    </tr>\n  </thead>\n  <tbody>\n    <tr>\n      <th>0</th>\n      <td>3300</td>\n      <td>4500</td>\n      <td>4300</td>\n      <td>4700.0</td>\n      <td>3350.0</td>\n      <td>106</td>\n      <td>3890</td>\n      <td>6900</td>\n      <td>3850</td>\n      <td>3700.0</td>\n      <td>2015-02-09</td>\n    </tr>\n    <tr>\n      <th>1</th>\n      <td>3300</td>\n      <td>4500</td>\n      <td>4300</td>\n      <td>4700.0</td>\n      <td>3350.0</td>\n      <td>106</td>\n      <td>3890</td>\n      <td>6900</td>\n      <td>3850</td>\n      <td>3700.0</td>\n      <td>2015-02-16</td>\n    </tr>\n    <tr>\n      <th>2</th>\n      <td>3300</td>\n      <td>4500</td>\n      <td>4300</td>\n      <td>4700.0</td>\n      <td>3350.0</td>\n      <td>103</td>\n      <td>3890</td>\n      <td>6900</td>\n      <td>3850</td>\n      <td>3700.0</td>\n      <td>2015-02-23</td>\n    </tr>\n    <tr>\n      <th>3</th>\n      <td>3300</td>\n      <td>4500</td>\n      <td>4300</td>\n      <td>4700.0</td>\n      <td>3350.0</td>\n      <td>103</td>\n      <td>3890</td>\n      <td>6900</td>\n      <td>3850</td>\n      <td>3700.0</td>\n      <td>2015-03-02</td>\n    </tr>\n    <tr>\n      <th>4</th>\n      <td>3750</td>\n      <td>4700</td>\n      <td>4100</td>\n      <td>4700.0</td>\n      <td>3525.0</td>\n      <td>103</td>\n      <td>4164</td>\n      <td>8750</td>\n      <td>4400</td>\n      <td>4050.0</td>\n      <td>2015-03-09</td>\n    </tr>\n    <tr>\n      <th>...</th>\n      <td>...</td>\n      <td>...</td>\n      <td>...</td>\n      <td>...</td>\n      <td>...</td>\n      <td>...</td>\n      <td>...</td>\n      <td>...</td>\n      <td>...</td>\n      <td>...</td>\n      <td>...</td>\n    </tr>\n    <tr>\n      <th>418</th>\n      <td>7750</td>\n      <td>11250</td>\n      <td>8850</td>\n      <td>10200.0</td>\n      <td>7500.0</td>\n      <td>352</td>\n      <td>9010</td>\n      <td>17500</td>\n      <td>9500</td>\n      <td>7500.0</td>\n      <td>2023-02-13</td>\n    </tr>\n    <tr>\n      <th>419</th>\n      <td>7750</td>\n      <td>11250</td>\n      <td>8850</td>\n      <td>10200.0</td>\n      <td>7500.0</td>\n      <td>367</td>\n      <td>9010</td>\n      <td>17500</td>\n      <td>9500</td>\n      <td>7500.0</td>\n      <td>2023-02-20</td>\n    </tr>\n    <tr>\n      <th>420</th>\n      <td>7750</td>\n      <td>11250</td>\n      <td>8850</td>\n      <td>10200.0</td>\n      <td>7500.0</td>\n      <td>362</td>\n      <td>9010</td>\n      <td>17500</td>\n      <td>9500</td>\n      <td>7500.0</td>\n      <td>2023-02-27</td>\n    </tr>\n    <tr>\n      <th>421</th>\n      <td>8000</td>\n      <td>11250</td>\n      <td>8850</td>\n      <td>10200.0</td>\n      <td>7500.0</td>\n      <td>348</td>\n      <td>9090</td>\n      <td>18750</td>\n      <td>10000</td>\n      <td>7500.0</td>\n      <td>2023-03-06</td>\n    </tr>\n    <tr>\n      <th>422</th>\n      <td>8000</td>\n      <td>11250</td>\n      <td>8850</td>\n      <td>10200.0</td>\n      <td>7500.0</td>\n      <td>354</td>\n      <td>9090</td>\n      <td>18750</td>\n      <td>10000</td>\n      <td>7500.0</td>\n      <td>2023-03-13</td>\n    </tr>\n  </tbody>\n</table>\n<p>423 rows × 11 columns</p>\n</div>"
     },
     "execution_count": 59,
     "metadata": {},
     "output_type": "execute_result"
    }
   ],
   "source": [
    "coking_coil_data"
   ],
   "metadata": {
    "collapsed": false,
    "ExecuteTime": {
     "end_time": "2023-06-23T22:44:41.772594Z",
     "start_time": "2023-06-23T22:44:41.770162Z"
    }
   }
  },
  {
   "cell_type": "code",
   "execution_count": 51,
   "outputs": [
    {
     "data": {
      "text/plain": "     iron_concentrate_ukraine_dollar_tonn_ship_dap  \\\n0                                              NaN   \n1                                              NaN   \n2                                              NaN   \n3                                              NaN   \n4                                              NaN   \n..                                             ...   \n418                                          116.0   \n419                                          116.0   \n420                                          122.0   \n421                                          122.0   \n422                                          122.0   \n\n     iron_pellets_russia_east_dollar_tonn_dap  \\\n0                                        70.0   \n1                                        70.0   \n2                                        72.0   \n3                                        72.0   \n4                                        70.0   \n..                                        ...   \n418                                     136.5   \n419                                     137.5   \n420                                     143.0   \n421                                     139.0   \n422                                     141.0   \n\n     iron_concentrate_weighted_average_percent_russia_rub_tonn_ship_fca  \\\n0                                                  NaN                    \n1                                                  NaN                    \n2                                                  NaN                    \n3                                                  NaN                    \n4                                                  NaN                    \n..                                                 ...                    \n418                                               66.0                    \n419                                               66.0                    \n420                                               74.0                    \n421                                               74.0                    \n422                                               74.0                    \n\n     iron_pellets_weighted_average_percent_russia_rub_tonn_ship_fca  \\\n0                                                  NaN                \n1                                                  NaN                \n2                                                  NaN                \n3                                                  NaN                \n4                                                  NaN                \n..                                                 ...                \n418                                               78.0                \n419                                               78.0                \n420                                               85.0                \n421                                               85.0                \n422                                               85.0                \n\n     iron_concentrate_russia_rub_tonn_ship_fca  iron_china_ship_cfr  \\\n0                                       2275.0                   62   \n1                                       2275.0                   63   \n2                                       2275.0                   64   \n3                                       2275.0                   63   \n4                                       2425.0                   61   \n..                                         ...                  ...   \n418                                     4787.5                  124   \n419                                     4787.5                  124   \n420                                     4787.5                  130   \n421                                     5037.5                  126   \n422                                     5037.5                  128   \n\n     iron_concentrate_russia_east_dollar_tonn_ship_dap  \\\n0                                                 51.0   \n1                                                 51.0   \n2                                                 53.0   \n3                                                 53.0   \n4                                                 51.0   \n..                                                 ...   \n418                                              113.5   \n419                                              113.5   \n420                                              119.5   \n421                                              115.5   \n422                                              117.5   \n\n     iron_itally_dollar_tonn_ship_cfr  \\\n0                                 NaN   \n1                                 NaN   \n2                                 NaN   \n3                                 NaN   \n4                                 NaN   \n..                                ...   \n418                             421.5   \n419                             418.0   \n420                             438.5   \n421                             453.5   \n422                             460.0   \n\n     iron_pellets_ukraine_dollar_tonn_ship_dap  \\\n0                                          NaN   \n1                                          NaN   \n2                                          NaN   \n3                                          NaN   \n4                                          NaN   \n..                                         ...   \n418                                      154.0   \n419                                      154.0   \n420                                      159.0   \n421                                      159.0   \n422                                      159.0   \n\n     iron_pellets_weighted_average_russia_rub_tonn_ship_fca  \\\n0                                                  NaN        \n1                                                  NaN        \n2                                                  NaN        \n3                                               3540.0        \n4                                               3540.0        \n..                                                 ...        \n418                                             5043.0        \n419                                             5043.0        \n420                                             5547.0        \n421                                             5547.0        \n422                                             5547.0        \n\n     iron_concentrate_weighted_average_russia_rub_tonn_ship_fca  \\\n0                                                  NaN            \n1                                                  NaN            \n2                                                  NaN            \n3                                               2097.0            \n4                                               2097.0            \n..                                                 ...            \n418                                             4382.0            \n419                                             4382.0            \n420                                             4898.0            \n421                                             4898.0            \n422                                             4898.0            \n\n     iron_pellets_russia_rub_tonn_ship_fca  \\\n0                                   3450.0   \n1                                   3450.0   \n2                                   3450.0   \n3                                   3450.0   \n4                                   3500.0   \n..                                     ...   \n418                                 5625.0   \n419                                 5625.0   \n420                                 5625.0   \n421                                 6350.0   \n422                                 6350.0   \n\n     iron_agloruda_weighted_average_percent_russia_rub_tonn_ship_fca  \\\n0                                                  NaN                 \n1                                                  NaN                 \n2                                                  NaN                 \n3                                               1261.0                 \n4                                               1261.0                 \n..                                                 ...                 \n418                                             2577.0                 \n419                                             2577.0                 \n420                                             2921.0                 \n421                                             2921.0                 \n422                                             2921.0                 \n\n     iron_agloruda_weighted_average_percent_russia_rub_tonn_ship_fca  \\\n0                                                  NaN                 \n1                                                  NaN                 \n2                                                  NaN                 \n3                                                 23.0                 \n4                                                 23.0                 \n..                                                 ...                 \n418                                               50.0                 \n419                                               50.0                 \n420                                               56.0                 \n421                                               56.0                 \n422                                               56.0                 \n\n     iron_agloruda_russia_rub_tonn_ship_fca  iron_russia_rub_tonn_ship_fca  \n0                                    1325.0                            NaN  \n1                                    1325.0                            NaN  \n2                                    1325.0                            NaN  \n3                                    1325.0                            NaN  \n4                                    1345.0                            NaN  \n..                                      ...                            ...  \n418                                  2950.0                        16340.0  \n419                                  2950.0                        16340.0  \n420                                  2950.0                        16340.0  \n421                                  3125.0                        18190.0  \n422                                  3125.0                        18190.0  \n\n[423 rows x 16 columns]",
      "text/html": "<div>\n<style scoped>\n    .dataframe tbody tr th:only-of-type {\n        vertical-align: middle;\n    }\n\n    .dataframe tbody tr th {\n        vertical-align: top;\n    }\n\n    .dataframe thead th {\n        text-align: right;\n    }\n</style>\n<table border=\"1\" class=\"dataframe\">\n  <thead>\n    <tr style=\"text-align: right;\">\n      <th></th>\n      <th>iron_concentrate_ukraine_dollar_tonn_ship_dap</th>\n      <th>iron_pellets_russia_east_dollar_tonn_dap</th>\n      <th>iron_concentrate_weighted_average_percent_russia_rub_tonn_ship_fca</th>\n      <th>iron_pellets_weighted_average_percent_russia_rub_tonn_ship_fca</th>\n      <th>iron_concentrate_russia_rub_tonn_ship_fca</th>\n      <th>iron_china_ship_cfr</th>\n      <th>iron_concentrate_russia_east_dollar_tonn_ship_dap</th>\n      <th>iron_itally_dollar_tonn_ship_cfr</th>\n      <th>iron_pellets_ukraine_dollar_tonn_ship_dap</th>\n      <th>iron_pellets_weighted_average_russia_rub_tonn_ship_fca</th>\n      <th>iron_concentrate_weighted_average_russia_rub_tonn_ship_fca</th>\n      <th>iron_pellets_russia_rub_tonn_ship_fca</th>\n      <th>iron_agloruda_weighted_average_percent_russia_rub_tonn_ship_fca</th>\n      <th>iron_agloruda_weighted_average_percent_russia_rub_tonn_ship_fca</th>\n      <th>iron_agloruda_russia_rub_tonn_ship_fca</th>\n      <th>iron_russia_rub_tonn_ship_fca</th>\n    </tr>\n  </thead>\n  <tbody>\n    <tr>\n      <th>0</th>\n      <td>NaN</td>\n      <td>70.0</td>\n      <td>NaN</td>\n      <td>NaN</td>\n      <td>2275.0</td>\n      <td>62</td>\n      <td>51.0</td>\n      <td>NaN</td>\n      <td>NaN</td>\n      <td>NaN</td>\n      <td>NaN</td>\n      <td>3450.0</td>\n      <td>NaN</td>\n      <td>NaN</td>\n      <td>1325.0</td>\n      <td>NaN</td>\n    </tr>\n    <tr>\n      <th>1</th>\n      <td>NaN</td>\n      <td>70.0</td>\n      <td>NaN</td>\n      <td>NaN</td>\n      <td>2275.0</td>\n      <td>63</td>\n      <td>51.0</td>\n      <td>NaN</td>\n      <td>NaN</td>\n      <td>NaN</td>\n      <td>NaN</td>\n      <td>3450.0</td>\n      <td>NaN</td>\n      <td>NaN</td>\n      <td>1325.0</td>\n      <td>NaN</td>\n    </tr>\n    <tr>\n      <th>2</th>\n      <td>NaN</td>\n      <td>72.0</td>\n      <td>NaN</td>\n      <td>NaN</td>\n      <td>2275.0</td>\n      <td>64</td>\n      <td>53.0</td>\n      <td>NaN</td>\n      <td>NaN</td>\n      <td>NaN</td>\n      <td>NaN</td>\n      <td>3450.0</td>\n      <td>NaN</td>\n      <td>NaN</td>\n      <td>1325.0</td>\n      <td>NaN</td>\n    </tr>\n    <tr>\n      <th>3</th>\n      <td>NaN</td>\n      <td>72.0</td>\n      <td>NaN</td>\n      <td>NaN</td>\n      <td>2275.0</td>\n      <td>63</td>\n      <td>53.0</td>\n      <td>NaN</td>\n      <td>NaN</td>\n      <td>3540.0</td>\n      <td>2097.0</td>\n      <td>3450.0</td>\n      <td>1261.0</td>\n      <td>23.0</td>\n      <td>1325.0</td>\n      <td>NaN</td>\n    </tr>\n    <tr>\n      <th>4</th>\n      <td>NaN</td>\n      <td>70.0</td>\n      <td>NaN</td>\n      <td>NaN</td>\n      <td>2425.0</td>\n      <td>61</td>\n      <td>51.0</td>\n      <td>NaN</td>\n      <td>NaN</td>\n      <td>3540.0</td>\n      <td>2097.0</td>\n      <td>3500.0</td>\n      <td>1261.0</td>\n      <td>23.0</td>\n      <td>1345.0</td>\n      <td>NaN</td>\n    </tr>\n    <tr>\n      <th>...</th>\n      <td>...</td>\n      <td>...</td>\n      <td>...</td>\n      <td>...</td>\n      <td>...</td>\n      <td>...</td>\n      <td>...</td>\n      <td>...</td>\n      <td>...</td>\n      <td>...</td>\n      <td>...</td>\n      <td>...</td>\n      <td>...</td>\n      <td>...</td>\n      <td>...</td>\n      <td>...</td>\n    </tr>\n    <tr>\n      <th>418</th>\n      <td>116.0</td>\n      <td>136.5</td>\n      <td>66.0</td>\n      <td>78.0</td>\n      <td>4787.5</td>\n      <td>124</td>\n      <td>113.5</td>\n      <td>421.5</td>\n      <td>154.0</td>\n      <td>5043.0</td>\n      <td>4382.0</td>\n      <td>5625.0</td>\n      <td>2577.0</td>\n      <td>50.0</td>\n      <td>2950.0</td>\n      <td>16340.0</td>\n    </tr>\n    <tr>\n      <th>419</th>\n      <td>116.0</td>\n      <td>137.5</td>\n      <td>66.0</td>\n      <td>78.0</td>\n      <td>4787.5</td>\n      <td>124</td>\n      <td>113.5</td>\n      <td>418.0</td>\n      <td>154.0</td>\n      <td>5043.0</td>\n      <td>4382.0</td>\n      <td>5625.0</td>\n      <td>2577.0</td>\n      <td>50.0</td>\n      <td>2950.0</td>\n      <td>16340.0</td>\n    </tr>\n    <tr>\n      <th>420</th>\n      <td>122.0</td>\n      <td>143.0</td>\n      <td>74.0</td>\n      <td>85.0</td>\n      <td>4787.5</td>\n      <td>130</td>\n      <td>119.5</td>\n      <td>438.5</td>\n      <td>159.0</td>\n      <td>5547.0</td>\n      <td>4898.0</td>\n      <td>5625.0</td>\n      <td>2921.0</td>\n      <td>56.0</td>\n      <td>2950.0</td>\n      <td>16340.0</td>\n    </tr>\n    <tr>\n      <th>421</th>\n      <td>122.0</td>\n      <td>139.0</td>\n      <td>74.0</td>\n      <td>85.0</td>\n      <td>5037.5</td>\n      <td>126</td>\n      <td>115.5</td>\n      <td>453.5</td>\n      <td>159.0</td>\n      <td>5547.0</td>\n      <td>4898.0</td>\n      <td>6350.0</td>\n      <td>2921.0</td>\n      <td>56.0</td>\n      <td>3125.0</td>\n      <td>18190.0</td>\n    </tr>\n    <tr>\n      <th>422</th>\n      <td>122.0</td>\n      <td>141.0</td>\n      <td>74.0</td>\n      <td>85.0</td>\n      <td>5037.5</td>\n      <td>128</td>\n      <td>117.5</td>\n      <td>460.0</td>\n      <td>159.0</td>\n      <td>5547.0</td>\n      <td>4898.0</td>\n      <td>6350.0</td>\n      <td>2921.0</td>\n      <td>56.0</td>\n      <td>3125.0</td>\n      <td>18190.0</td>\n    </tr>\n  </tbody>\n</table>\n<p>423 rows × 16 columns</p>\n</div>"
     },
     "execution_count": 51,
     "metadata": {},
     "output_type": "execute_result"
    }
   ],
   "source": [
    "iron_data"
   ],
   "metadata": {
    "collapsed": false,
    "ExecuteTime": {
     "end_time": "2023-06-23T22:40:08.642335Z",
     "start_time": "2023-06-23T22:40:08.631120Z"
    }
   }
  },
  {
   "cell_type": "code",
   "execution_count": 58,
   "outputs": [
    {
     "data": {
      "text/plain": "     scrap_3a_siberia_rub_tonn_train_cpt  \\\n0                                  10009   \n1                                  10432   \n2                                  11981   \n3                                  11912   \n4                                  12061   \n..                                   ...   \n418                                23774   \n419                                24060   \n420                                24275   \n421                                25347   \n422                                25313   \n\n     scrap_hms_turkey_dollar_tonn_ship_cfr  \\\n0                                      246   \n1                                      243   \n2                                      241   \n3                                      249   \n4                                      257   \n..                                     ...   \n418                                    428   \n419                                    419   \n420                                    440   \n421                                    452   \n422                                    458   \n\n     scrap_3a_russia_moscow_rub_tonn_train_fca  \\\n0                                        11870   \n1                                        12088   \n2                                        12503   \n3                                        12439   \n4                                        12020   \n..                                         ...   \n418                                      22058   \n419                                      22134   \n420                                      22039   \n421                                      22056   \n422                                      23004   \n\n     scrap_3a_russia_ural_rub_tonn_ship_cpt  \\\n0                                     11598   \n1                                     11794   \n2                                     12047   \n3                                     12253   \n4                                     12183   \n..                                      ...   \n418                                   24807   \n419                                   25635   \n420                                   26010   \n421                                   26555   \n422                                   27052   \n\n     scrap_3a_south_rub_tonn_train_cpt  \\\n0                                12344   \n1                                12271   \n2                                12645   \n3                                12696   \n4                                12916   \n..                                 ...   \n418                              25741   \n419                              25837   \n420                              25814   \n421                              25821   \n422                              26750   \n\n     scrap_3a_russia_south_rub_tonn_auto_cpt  \\\n0                                        NaN   \n1                                        NaN   \n2                                        NaN   \n3                                        NaN   \n4                                        NaN   \n..                                       ...   \n418                                  22050.0   \n419                                  22050.0   \n420                                  22050.0   \n421                                  23500.0   \n422                                  23900.0   \n\n     scrap_hms_rotterdam_dollar_tonn_ship_fob  \\\n0                                         228   \n1                                         206   \n2                                         207   \n3                                         214   \n4                                         232   \n..                                        ...   \n418                                       399   \n419                                       390   \n420                                       411   \n421                                       422   \n422                                       426   \n\n     scrap_3a_russia_central_rub_tonn_ship_fca  \\\n0                                          NaN   \n1                                          NaN   \n2                                          NaN   \n3                                          NaN   \n4                                          NaN   \n..                                         ...   \n418                                    21844.0   \n419                                    21703.0   \n420                                    21665.0   \n421                                    22054.0   \n422                                    22832.0   \n\n     scrap_3a_russia_central_rub_tonn_ship_fca  \\\n0                                          NaN   \n1                                          NaN   \n2                                          NaN   \n3                                          NaN   \n4                                          NaN   \n..                                         ...   \n418                                    22009.0   \n419                                    22716.0   \n420                                    22608.0   \n421                                    22618.0   \n422                                    23093.0   \n\n     scrap_3a_russia_ural_rub_tonn_auto_cpt  ...  \\\n0                                       NaN  ...   \n1                                       NaN  ...   \n2                                       NaN  ...   \n3                                       NaN  ...   \n4                                       NaN  ...   \n..                                      ...  ...   \n418                                 23500.0  ...   \n419                                 24300.0  ...   \n420                                 23750.0  ...   \n421                                 24250.0  ...   \n422                                 24500.0  ...   \n\n     scrap_3a_russia_tatar_rub_tonn_fca  \\\n0                                 11573   \n1                                 11746   \n2                                 11930   \n3                                 12100   \n4                                 11774   \n..                                  ...   \n418                               22626   \n419                               23297   \n420                               23404   \n421                               24078   \n422                               24550   \n\n     scrap_3a_russia_south_dollar_tonn_ship_fob  \\\n0                                           221   \n1                                           213   \n2                                           208   \n3                                           215   \n4                                           221   \n..                                          ...   \n418                                         363   \n419                                         354   \n420                                         375   \n421                                         387   \n422                                         393   \n\n     scrap_3a_russia_ural_rub_tonn_ship_fca  \\\n0                                       NaN   \n1                                       NaN   \n2                                       NaN   \n3                                       NaN   \n4                                       NaN   \n..                                      ...   \n418                                 23160.0   \n419                                 24038.0   \n420                                 24193.0   \n421                                 24310.0   \n422                                 24926.0   \n\n     scrap_3a_russia_ural_rub_tonn_ship_fca  \\\n0                                       NaN   \n1                                       NaN   \n2                                       NaN   \n3                                       NaN   \n4                                       NaN   \n..                                      ...   \n418                                 22765.0   \n419                                 23414.0   \n420                                 24014.0   \n421                                 24005.0   \n422                                 24573.0   \n\n     scrap_3a_russia_siberia_rub_tonn_ship_fca  \\\n0                                          NaN   \n1                                          NaN   \n2                                          NaN   \n3                                          NaN   \n4                                          NaN   \n..                                         ...   \n418                                    19331.0   \n419                                    21256.0   \n420                                    21599.0   \n421                                    22101.0   \n422                                    22392.0   \n\n     scrap_3a_russia_north_rub_tonn_ship_fca  \\\n0                                        NaN   \n1                                        NaN   \n2                                        NaN   \n3                                        NaN   \n4                                        NaN   \n..                                       ...   \n418                                  20439.0   \n419                                  21181.0   \n420                                  21552.0   \n421                                  21794.0   \n422                                  22434.0   \n\n     scrap_3a_russia_central_rub_tonn_auto_cpt  \\\n0                                          NaN   \n1                                          NaN   \n2                                          NaN   \n3                                          NaN   \n4                                          NaN   \n..                                         ...   \n418                                    22600.0   \n419                                    22550.0   \n420                                    22400.0   \n421                                    22450.0   \n422                                    23350.0   \n\n     scrap_hms_uva_dollar_tonn_ship_cfr  \\\n0                                   248   \n1                                   248   \n2                                   248   \n3                                   248   \n4                                   248   \n..                                  ...   \n418                                 446   \n419                                 443   \n420                                 443   \n421                                 448   \n422                                 453   \n\n     scrap_b26_alloyed_russia_rub_tonn_ship_cpt         dt  \n0                                           NaN 2015-02-09  \n1                                           NaN 2015-02-16  \n2                                           NaN 2015-02-23  \n3                                           NaN 2015-03-02  \n4                                           NaN 2015-03-09  \n..                                          ...        ...  \n418                                    100000.0 2023-02-13  \n419                                    102000.0 2023-02-20  \n420                                    102000.0 2023-02-27  \n421                                    100000.0 2023-03-06  \n422                                    100000.0 2023-03-13  \n\n[423 rows x 23 columns]",
      "text/html": "<div>\n<style scoped>\n    .dataframe tbody tr th:only-of-type {\n        vertical-align: middle;\n    }\n\n    .dataframe tbody tr th {\n        vertical-align: top;\n    }\n\n    .dataframe thead th {\n        text-align: right;\n    }\n</style>\n<table border=\"1\" class=\"dataframe\">\n  <thead>\n    <tr style=\"text-align: right;\">\n      <th></th>\n      <th>scrap_3a_siberia_rub_tonn_train_cpt</th>\n      <th>scrap_hms_turkey_dollar_tonn_ship_cfr</th>\n      <th>scrap_3a_russia_moscow_rub_tonn_train_fca</th>\n      <th>scrap_3a_russia_ural_rub_tonn_ship_cpt</th>\n      <th>scrap_3a_south_rub_tonn_train_cpt</th>\n      <th>scrap_3a_russia_south_rub_tonn_auto_cpt</th>\n      <th>scrap_hms_rotterdam_dollar_tonn_ship_fob</th>\n      <th>scrap_3a_russia_central_rub_tonn_ship_fca</th>\n      <th>scrap_3a_russia_central_rub_tonn_ship_fca</th>\n      <th>scrap_3a_russia_ural_rub_tonn_auto_cpt</th>\n      <th>...</th>\n      <th>scrap_3a_russia_tatar_rub_tonn_fca</th>\n      <th>scrap_3a_russia_south_dollar_tonn_ship_fob</th>\n      <th>scrap_3a_russia_ural_rub_tonn_ship_fca</th>\n      <th>scrap_3a_russia_ural_rub_tonn_ship_fca</th>\n      <th>scrap_3a_russia_siberia_rub_tonn_ship_fca</th>\n      <th>scrap_3a_russia_north_rub_tonn_ship_fca</th>\n      <th>scrap_3a_russia_central_rub_tonn_auto_cpt</th>\n      <th>scrap_hms_uva_dollar_tonn_ship_cfr</th>\n      <th>scrap_b26_alloyed_russia_rub_tonn_ship_cpt</th>\n      <th>dt</th>\n    </tr>\n  </thead>\n  <tbody>\n    <tr>\n      <th>0</th>\n      <td>10009</td>\n      <td>246</td>\n      <td>11870</td>\n      <td>11598</td>\n      <td>12344</td>\n      <td>NaN</td>\n      <td>228</td>\n      <td>NaN</td>\n      <td>NaN</td>\n      <td>NaN</td>\n      <td>...</td>\n      <td>11573</td>\n      <td>221</td>\n      <td>NaN</td>\n      <td>NaN</td>\n      <td>NaN</td>\n      <td>NaN</td>\n      <td>NaN</td>\n      <td>248</td>\n      <td>NaN</td>\n      <td>2015-02-09</td>\n    </tr>\n    <tr>\n      <th>1</th>\n      <td>10432</td>\n      <td>243</td>\n      <td>12088</td>\n      <td>11794</td>\n      <td>12271</td>\n      <td>NaN</td>\n      <td>206</td>\n      <td>NaN</td>\n      <td>NaN</td>\n      <td>NaN</td>\n      <td>...</td>\n      <td>11746</td>\n      <td>213</td>\n      <td>NaN</td>\n      <td>NaN</td>\n      <td>NaN</td>\n      <td>NaN</td>\n      <td>NaN</td>\n      <td>248</td>\n      <td>NaN</td>\n      <td>2015-02-16</td>\n    </tr>\n    <tr>\n      <th>2</th>\n      <td>11981</td>\n      <td>241</td>\n      <td>12503</td>\n      <td>12047</td>\n      <td>12645</td>\n      <td>NaN</td>\n      <td>207</td>\n      <td>NaN</td>\n      <td>NaN</td>\n      <td>NaN</td>\n      <td>...</td>\n      <td>11930</td>\n      <td>208</td>\n      <td>NaN</td>\n      <td>NaN</td>\n      <td>NaN</td>\n      <td>NaN</td>\n      <td>NaN</td>\n      <td>248</td>\n      <td>NaN</td>\n      <td>2015-02-23</td>\n    </tr>\n    <tr>\n      <th>3</th>\n      <td>11912</td>\n      <td>249</td>\n      <td>12439</td>\n      <td>12253</td>\n      <td>12696</td>\n      <td>NaN</td>\n      <td>214</td>\n      <td>NaN</td>\n      <td>NaN</td>\n      <td>NaN</td>\n      <td>...</td>\n      <td>12100</td>\n      <td>215</td>\n      <td>NaN</td>\n      <td>NaN</td>\n      <td>NaN</td>\n      <td>NaN</td>\n      <td>NaN</td>\n      <td>248</td>\n      <td>NaN</td>\n      <td>2015-03-02</td>\n    </tr>\n    <tr>\n      <th>4</th>\n      <td>12061</td>\n      <td>257</td>\n      <td>12020</td>\n      <td>12183</td>\n      <td>12916</td>\n      <td>NaN</td>\n      <td>232</td>\n      <td>NaN</td>\n      <td>NaN</td>\n      <td>NaN</td>\n      <td>...</td>\n      <td>11774</td>\n      <td>221</td>\n      <td>NaN</td>\n      <td>NaN</td>\n      <td>NaN</td>\n      <td>NaN</td>\n      <td>NaN</td>\n      <td>248</td>\n      <td>NaN</td>\n      <td>2015-03-09</td>\n    </tr>\n    <tr>\n      <th>...</th>\n      <td>...</td>\n      <td>...</td>\n      <td>...</td>\n      <td>...</td>\n      <td>...</td>\n      <td>...</td>\n      <td>...</td>\n      <td>...</td>\n      <td>...</td>\n      <td>...</td>\n      <td>...</td>\n      <td>...</td>\n      <td>...</td>\n      <td>...</td>\n      <td>...</td>\n      <td>...</td>\n      <td>...</td>\n      <td>...</td>\n      <td>...</td>\n      <td>...</td>\n      <td>...</td>\n    </tr>\n    <tr>\n      <th>418</th>\n      <td>23774</td>\n      <td>428</td>\n      <td>22058</td>\n      <td>24807</td>\n      <td>25741</td>\n      <td>22050.0</td>\n      <td>399</td>\n      <td>21844.0</td>\n      <td>22009.0</td>\n      <td>23500.0</td>\n      <td>...</td>\n      <td>22626</td>\n      <td>363</td>\n      <td>23160.0</td>\n      <td>22765.0</td>\n      <td>19331.0</td>\n      <td>20439.0</td>\n      <td>22600.0</td>\n      <td>446</td>\n      <td>100000.0</td>\n      <td>2023-02-13</td>\n    </tr>\n    <tr>\n      <th>419</th>\n      <td>24060</td>\n      <td>419</td>\n      <td>22134</td>\n      <td>25635</td>\n      <td>25837</td>\n      <td>22050.0</td>\n      <td>390</td>\n      <td>21703.0</td>\n      <td>22716.0</td>\n      <td>24300.0</td>\n      <td>...</td>\n      <td>23297</td>\n      <td>354</td>\n      <td>24038.0</td>\n      <td>23414.0</td>\n      <td>21256.0</td>\n      <td>21181.0</td>\n      <td>22550.0</td>\n      <td>443</td>\n      <td>102000.0</td>\n      <td>2023-02-20</td>\n    </tr>\n    <tr>\n      <th>420</th>\n      <td>24275</td>\n      <td>440</td>\n      <td>22039</td>\n      <td>26010</td>\n      <td>25814</td>\n      <td>22050.0</td>\n      <td>411</td>\n      <td>21665.0</td>\n      <td>22608.0</td>\n      <td>23750.0</td>\n      <td>...</td>\n      <td>23404</td>\n      <td>375</td>\n      <td>24193.0</td>\n      <td>24014.0</td>\n      <td>21599.0</td>\n      <td>21552.0</td>\n      <td>22400.0</td>\n      <td>443</td>\n      <td>102000.0</td>\n      <td>2023-02-27</td>\n    </tr>\n    <tr>\n      <th>421</th>\n      <td>25347</td>\n      <td>452</td>\n      <td>22056</td>\n      <td>26555</td>\n      <td>25821</td>\n      <td>23500.0</td>\n      <td>422</td>\n      <td>22054.0</td>\n      <td>22618.0</td>\n      <td>24250.0</td>\n      <td>...</td>\n      <td>24078</td>\n      <td>387</td>\n      <td>24310.0</td>\n      <td>24005.0</td>\n      <td>22101.0</td>\n      <td>21794.0</td>\n      <td>22450.0</td>\n      <td>448</td>\n      <td>100000.0</td>\n      <td>2023-03-06</td>\n    </tr>\n    <tr>\n      <th>422</th>\n      <td>25313</td>\n      <td>458</td>\n      <td>23004</td>\n      <td>27052</td>\n      <td>26750</td>\n      <td>23900.0</td>\n      <td>426</td>\n      <td>22832.0</td>\n      <td>23093.0</td>\n      <td>24500.0</td>\n      <td>...</td>\n      <td>24550</td>\n      <td>393</td>\n      <td>24926.0</td>\n      <td>24573.0</td>\n      <td>22392.0</td>\n      <td>22434.0</td>\n      <td>23350.0</td>\n      <td>453</td>\n      <td>100000.0</td>\n      <td>2023-03-13</td>\n    </tr>\n  </tbody>\n</table>\n<p>423 rows × 23 columns</p>\n</div>"
     },
     "execution_count": 58,
     "metadata": {},
     "output_type": "execute_result"
    }
   ],
   "source": [
    "scrap_data"
   ],
   "metadata": {
    "collapsed": false,
    "ExecuteTime": {
     "end_time": "2023-06-23T22:44:33.601625Z",
     "start_time": "2023-06-23T22:44:33.590642Z"
    }
   }
  },
  {
   "cell_type": "code",
   "execution_count": 63,
   "outputs": [],
   "source": [
    "iron_data.to_csv(\"data_processing/iron_prices.csv\", index=False)\n",
    "cast_iron_data.to_csv(\"data_processing/cast_iron_prices.csv\", index=False)\n",
    "coking_coil_data.to_csv(\"data_processing/coking_coil_prices.csv\", index=False)\n",
    "scrap_data.to_csv(\"data_processing/scrap_data_prices.csv\", index=False)"
   ],
   "metadata": {
    "collapsed": false,
    "ExecuteTime": {
     "end_time": "2023-06-23T22:56:52.894435Z",
     "start_time": "2023-06-23T22:56:52.882394Z"
    }
   }
  },
  {
   "cell_type": "markdown",
   "source": [
    "#### working with prices in rubles and dollars"
   ],
   "metadata": {
    "collapsed": false
   }
  },
  {
   "cell_type": "code",
   "execution_count": null,
   "outputs": [],
   "source": [],
   "metadata": {
    "collapsed": false
   }
  },
  {
   "cell_type": "markdown",
   "source": [
    "### топливо"
   ],
   "metadata": {
    "collapsed": false
   }
  },
  {
   "cell_type": "code",
   "execution_count": 4,
   "outputs": [
    {
     "data": {
      "text/plain": "           dt  Цена на бензин  Цена на дт\n0  2017-02-28           35.91       36.15\n1  2017-03-31           36.11       36.58\n2  2017-04-30           36.41       36.69\n3  2017-05-31           36.64       36.80\n4  2017-06-30           36.91       36.87\n..        ...             ...         ...\n71 2023-01-31           51.65       56.73\n72 2023-02-28           51.68       57.34\n73 2023-03-31           51.67       57.33\n74 2023-04-30           51.67       57.38\n75 2023-05-31           51.69       57.39\n\n[76 rows x 3 columns]",
      "text/html": "<div>\n<style scoped>\n    .dataframe tbody tr th:only-of-type {\n        vertical-align: middle;\n    }\n\n    .dataframe tbody tr th {\n        vertical-align: top;\n    }\n\n    .dataframe thead th {\n        text-align: right;\n    }\n</style>\n<table border=\"1\" class=\"dataframe\">\n  <thead>\n    <tr style=\"text-align: right;\">\n      <th></th>\n      <th>dt</th>\n      <th>Цена на бензин</th>\n      <th>Цена на дт</th>\n    </tr>\n  </thead>\n  <tbody>\n    <tr>\n      <th>0</th>\n      <td>2017-02-28</td>\n      <td>35.91</td>\n      <td>36.15</td>\n    </tr>\n    <tr>\n      <th>1</th>\n      <td>2017-03-31</td>\n      <td>36.11</td>\n      <td>36.58</td>\n    </tr>\n    <tr>\n      <th>2</th>\n      <td>2017-04-30</td>\n      <td>36.41</td>\n      <td>36.69</td>\n    </tr>\n    <tr>\n      <th>3</th>\n      <td>2017-05-31</td>\n      <td>36.64</td>\n      <td>36.80</td>\n    </tr>\n    <tr>\n      <th>4</th>\n      <td>2017-06-30</td>\n      <td>36.91</td>\n      <td>36.87</td>\n    </tr>\n    <tr>\n      <th>...</th>\n      <td>...</td>\n      <td>...</td>\n      <td>...</td>\n    </tr>\n    <tr>\n      <th>71</th>\n      <td>2023-01-31</td>\n      <td>51.65</td>\n      <td>56.73</td>\n    </tr>\n    <tr>\n      <th>72</th>\n      <td>2023-02-28</td>\n      <td>51.68</td>\n      <td>57.34</td>\n    </tr>\n    <tr>\n      <th>73</th>\n      <td>2023-03-31</td>\n      <td>51.67</td>\n      <td>57.33</td>\n    </tr>\n    <tr>\n      <th>74</th>\n      <td>2023-04-30</td>\n      <td>51.67</td>\n      <td>57.38</td>\n    </tr>\n    <tr>\n      <th>75</th>\n      <td>2023-05-31</td>\n      <td>51.69</td>\n      <td>57.39</td>\n    </tr>\n  </tbody>\n</table>\n<p>76 rows × 3 columns</p>\n</div>"
     },
     "execution_count": 4,
     "metadata": {},
     "output_type": "execute_result"
    }
   ],
   "source": [
    "fuel = pd.read_excel(\"data/Топливо.xlsx\")\n",
    "fuel"
   ],
   "metadata": {
    "collapsed": false,
    "ExecuteTime": {
     "end_time": "2023-06-23T23:55:52.975590Z",
     "start_time": "2023-06-23T23:55:52.959876Z"
    }
   }
  },
  {
   "cell_type": "code",
   "execution_count": 5,
   "outputs": [],
   "source": [
    "fuel.rename(columns={\"Цена на бензин\": \"petrol_price\",\n",
    "                     \"Цена на дт\": \"diesel_price\"}, inplace=True)\n",
    "fuel.to_csv(\"data_processing/fuel.csv\", index=False)"
   ],
   "metadata": {
    "collapsed": false,
    "ExecuteTime": {
     "end_time": "2023-06-23T23:56:56.993798Z",
     "start_time": "2023-06-23T23:56:56.984374Z"
    }
   }
  },
  {
   "cell_type": "markdown",
   "source": [
    "### показатели рынка металлов"
   ],
   "metadata": {
    "collapsed": false
   }
  },
  {
   "cell_type": "code",
   "execution_count": 4,
   "outputs": [
    {
     "data": {
      "text/plain": "           dt  Производство арматуры Сортовой прокат_Арматура  \\\n0  2016-03-31                                             527   \n1  2016-04-30                                             563   \n2  2016-05-31                                             614   \n3  2016-06-30                                             659   \n4  2016-07-31                                             703   \n..        ...                                             ...   \n80 2022-11-30                                             871   \n81 2022-12-31                                             928   \n82 2023-01-31                                             616   \n83 2023-02-28                                             699   \n84 2023-03-31                                             694   \n\n    Производство арматуры Сортовой прокат_Катанка  \\\n0                                             208   \n1                                             231   \n2                                             263   \n3                                             242   \n4                                             249   \n..                                            ...   \n80                                            265   \n81                                            253   \n82                                            242   \n83                                            286   \n84                                            203   \n\n    Производство арматуры Сортовой прокат_Прутки прочие  \\\n0                                                 191     \n1                                                 216     \n2                                                 235     \n3                                                 237     \n4                                                 238     \n..                                                ...     \n80                                                182     \n81                                                248     \n82                                                197     \n83                                                189     \n84                                                207     \n\n    Производство сырья ЖРС_Агломерат  Производство сырья ЖРС_Аглоруда  \\\n0                               5127                              376   \n1                               4776                              343   \n2                               5107                              420   \n3                               4809                              400   \n4                               5147                              420   \n..                               ...                              ...   \n80                              4433                              502   \n81                              4305                              439   \n82                              4296                              532   \n83                              4280                              438   \n84                              4709                              479   \n\n    Производство сырья ЖРС_Концентрат  \\\n0                                9063   \n1                                8850   \n2                                9013   \n3                                9275   \n4                                9587   \n..                                ...   \n80                               8704   \n81                               9171   \n82                               8848   \n83                               8750   \n84                               9411   \n\n    Производство сырья ЖРС_Концентрат для дообогащения  \\\n0                                                 631    \n1                                                 608    \n2                                                 626    \n3                                                 613    \n4                                                 518    \n..                                                ...    \n80                                                622    \n81                                                655    \n82                                                598    \n83                                                607    \n84                                                495    \n\n    Производство сырья ЖРС_Окатыши  Производство сырья Кокс_Кокс валовый  ...  \\\n0                             3691                                  2307  ...   \n1                             3450                                  2297  ...   \n2                             3849                                  2481  ...   \n3                             3688                                  2372  ...   \n4                             4032                                  2255  ...   \n..                             ...                                   ...  ...   \n80                            3885                                  2118  ...   \n81                            4141                                  2034  ...   \n82                            4292                                  2012  ...   \n83                            4386                                  1985  ...   \n84                            4444                                  2107  ...   \n\n    Экспорт сырья Лом_Лом стальной  Экспорт сырья Лом_Лом чугуна  \\\n0                                0                             0   \n1                                0                             0   \n2                                0                             0   \n3                                0                             0   \n4                                0                             0   \n..                             ...                           ...   \n80                               0                             0   \n81                               0                             0   \n82                               0                             0   \n83                               0                             0   \n84                               0                             0   \n\n    Экспорт сырья Металлизованная продукция_Всего отгружено с предприятия  \\\n0                                                   0                       \n1                                                   0                       \n2                                                   0                       \n3                                                   0                       \n4                                                   0                       \n..                                                ...                       \n80                                                  0                       \n81                                                  0                       \n82                                                  0                       \n83                                                  0                       \n84                                                  0                       \n\n    Экспорт сырья Металлизованная продукция_ГБЖ  \\\n0                                             0   \n1                                             0   \n2                                             0   \n3                                             0   \n4                                             0   \n..                                          ...   \n80                                           25   \n81                                           22   \n82                                           14   \n83                                           20   \n84                                           25   \n\n    Экспорт сырья Чугун_Всего отгружено с предприятия  \\\n0                                                   0   \n1                                                   0   \n2                                                   0   \n3                                                   0   \n4                                                   0   \n..                                                ...   \n80                                                  0   \n81                                                  0   \n82                                                  0   \n83                                                  0   \n84                                                  0   \n\n    Экспорт сырья Чугун_Литейный чугун  Экспорт сырья Чугун_Передельный чугун  \\\n0                                    0                                      0   \n1                                    0                                      0   \n2                                    0                                      0   \n3                                    0                                      0   \n4                                    0                                      0   \n..                                 ...                                    ...   \n80                                   0                                     20   \n81                                   0                                     36   \n82                                   0                                     32   \n83                                  10                                     27   \n84                                   5                                     35   \n\n    Экспорт арматуры Сортовой прокат_Арматура  \\\n0                                          97   \n1                                         118   \n2                                         123   \n3                                         129   \n4                                         142   \n..                                        ...   \n80                                        146   \n81                                         94   \n82                                        122   \n83                                        141   \n84                                        121   \n\n    Экспорт арматуры Сортовой прокат_Катанка  \\\n0                                         68   \n1                                         79   \n2                                        100   \n3                                         78   \n4                                         90   \n..                                       ...   \n80                                        56   \n81                                        72   \n82                                        77   \n83                                       124   \n84                                        43   \n\n    Экспорт арматуры Сортовой прокат_Прутки прочие  \n0                                               50  \n1                                               55  \n2                                               71  \n3                                               61  \n4                                               48  \n..                                             ...  \n80                                              14  \n81                                              14  \n82                                              15  \n83                                              13  \n84                                              18  \n\n[85 rows x 81 columns]",
      "text/html": "<div>\n<style scoped>\n    .dataframe tbody tr th:only-of-type {\n        vertical-align: middle;\n    }\n\n    .dataframe tbody tr th {\n        vertical-align: top;\n    }\n\n    .dataframe thead th {\n        text-align: right;\n    }\n</style>\n<table border=\"1\" class=\"dataframe\">\n  <thead>\n    <tr style=\"text-align: right;\">\n      <th></th>\n      <th>dt</th>\n      <th>Производство арматуры Сортовой прокат_Арматура</th>\n      <th>Производство арматуры Сортовой прокат_Катанка</th>\n      <th>Производство арматуры Сортовой прокат_Прутки прочие</th>\n      <th>Производство сырья ЖРС_Агломерат</th>\n      <th>Производство сырья ЖРС_Аглоруда</th>\n      <th>Производство сырья ЖРС_Концентрат</th>\n      <th>Производство сырья ЖРС_Концентрат для дообогащения</th>\n      <th>Производство сырья ЖРС_Окатыши</th>\n      <th>Производство сырья Кокс_Кокс валовый</th>\n      <th>...</th>\n      <th>Экспорт сырья Лом_Лом стальной</th>\n      <th>Экспорт сырья Лом_Лом чугуна</th>\n      <th>Экспорт сырья Металлизованная продукция_Всего отгружено с предприятия</th>\n      <th>Экспорт сырья Металлизованная продукция_ГБЖ</th>\n      <th>Экспорт сырья Чугун_Всего отгружено с предприятия</th>\n      <th>Экспорт сырья Чугун_Литейный чугун</th>\n      <th>Экспорт сырья Чугун_Передельный чугун</th>\n      <th>Экспорт арматуры Сортовой прокат_Арматура</th>\n      <th>Экспорт арматуры Сортовой прокат_Катанка</th>\n      <th>Экспорт арматуры Сортовой прокат_Прутки прочие</th>\n    </tr>\n  </thead>\n  <tbody>\n    <tr>\n      <th>0</th>\n      <td>2016-03-31</td>\n      <td>527</td>\n      <td>208</td>\n      <td>191</td>\n      <td>5127</td>\n      <td>376</td>\n      <td>9063</td>\n      <td>631</td>\n      <td>3691</td>\n      <td>2307</td>\n      <td>...</td>\n      <td>0</td>\n      <td>0</td>\n      <td>0</td>\n      <td>0</td>\n      <td>0</td>\n      <td>0</td>\n      <td>0</td>\n      <td>97</td>\n      <td>68</td>\n      <td>50</td>\n    </tr>\n    <tr>\n      <th>1</th>\n      <td>2016-04-30</td>\n      <td>563</td>\n      <td>231</td>\n      <td>216</td>\n      <td>4776</td>\n      <td>343</td>\n      <td>8850</td>\n      <td>608</td>\n      <td>3450</td>\n      <td>2297</td>\n      <td>...</td>\n      <td>0</td>\n      <td>0</td>\n      <td>0</td>\n      <td>0</td>\n      <td>0</td>\n      <td>0</td>\n      <td>0</td>\n      <td>118</td>\n      <td>79</td>\n      <td>55</td>\n    </tr>\n    <tr>\n      <th>2</th>\n      <td>2016-05-31</td>\n      <td>614</td>\n      <td>263</td>\n      <td>235</td>\n      <td>5107</td>\n      <td>420</td>\n      <td>9013</td>\n      <td>626</td>\n      <td>3849</td>\n      <td>2481</td>\n      <td>...</td>\n      <td>0</td>\n      <td>0</td>\n      <td>0</td>\n      <td>0</td>\n      <td>0</td>\n      <td>0</td>\n      <td>0</td>\n      <td>123</td>\n      <td>100</td>\n      <td>71</td>\n    </tr>\n    <tr>\n      <th>3</th>\n      <td>2016-06-30</td>\n      <td>659</td>\n      <td>242</td>\n      <td>237</td>\n      <td>4809</td>\n      <td>400</td>\n      <td>9275</td>\n      <td>613</td>\n      <td>3688</td>\n      <td>2372</td>\n      <td>...</td>\n      <td>0</td>\n      <td>0</td>\n      <td>0</td>\n      <td>0</td>\n      <td>0</td>\n      <td>0</td>\n      <td>0</td>\n      <td>129</td>\n      <td>78</td>\n      <td>61</td>\n    </tr>\n    <tr>\n      <th>4</th>\n      <td>2016-07-31</td>\n      <td>703</td>\n      <td>249</td>\n      <td>238</td>\n      <td>5147</td>\n      <td>420</td>\n      <td>9587</td>\n      <td>518</td>\n      <td>4032</td>\n      <td>2255</td>\n      <td>...</td>\n      <td>0</td>\n      <td>0</td>\n      <td>0</td>\n      <td>0</td>\n      <td>0</td>\n      <td>0</td>\n      <td>0</td>\n      <td>142</td>\n      <td>90</td>\n      <td>48</td>\n    </tr>\n    <tr>\n      <th>...</th>\n      <td>...</td>\n      <td>...</td>\n      <td>...</td>\n      <td>...</td>\n      <td>...</td>\n      <td>...</td>\n      <td>...</td>\n      <td>...</td>\n      <td>...</td>\n      <td>...</td>\n      <td>...</td>\n      <td>...</td>\n      <td>...</td>\n      <td>...</td>\n      <td>...</td>\n      <td>...</td>\n      <td>...</td>\n      <td>...</td>\n      <td>...</td>\n      <td>...</td>\n      <td>...</td>\n    </tr>\n    <tr>\n      <th>80</th>\n      <td>2022-11-30</td>\n      <td>871</td>\n      <td>265</td>\n      <td>182</td>\n      <td>4433</td>\n      <td>502</td>\n      <td>8704</td>\n      <td>622</td>\n      <td>3885</td>\n      <td>2118</td>\n      <td>...</td>\n      <td>0</td>\n      <td>0</td>\n      <td>0</td>\n      <td>25</td>\n      <td>0</td>\n      <td>0</td>\n      <td>20</td>\n      <td>146</td>\n      <td>56</td>\n      <td>14</td>\n    </tr>\n    <tr>\n      <th>81</th>\n      <td>2022-12-31</td>\n      <td>928</td>\n      <td>253</td>\n      <td>248</td>\n      <td>4305</td>\n      <td>439</td>\n      <td>9171</td>\n      <td>655</td>\n      <td>4141</td>\n      <td>2034</td>\n      <td>...</td>\n      <td>0</td>\n      <td>0</td>\n      <td>0</td>\n      <td>22</td>\n      <td>0</td>\n      <td>0</td>\n      <td>36</td>\n      <td>94</td>\n      <td>72</td>\n      <td>14</td>\n    </tr>\n    <tr>\n      <th>82</th>\n      <td>2023-01-31</td>\n      <td>616</td>\n      <td>242</td>\n      <td>197</td>\n      <td>4296</td>\n      <td>532</td>\n      <td>8848</td>\n      <td>598</td>\n      <td>4292</td>\n      <td>2012</td>\n      <td>...</td>\n      <td>0</td>\n      <td>0</td>\n      <td>0</td>\n      <td>14</td>\n      <td>0</td>\n      <td>0</td>\n      <td>32</td>\n      <td>122</td>\n      <td>77</td>\n      <td>15</td>\n    </tr>\n    <tr>\n      <th>83</th>\n      <td>2023-02-28</td>\n      <td>699</td>\n      <td>286</td>\n      <td>189</td>\n      <td>4280</td>\n      <td>438</td>\n      <td>8750</td>\n      <td>607</td>\n      <td>4386</td>\n      <td>1985</td>\n      <td>...</td>\n      <td>0</td>\n      <td>0</td>\n      <td>0</td>\n      <td>20</td>\n      <td>0</td>\n      <td>10</td>\n      <td>27</td>\n      <td>141</td>\n      <td>124</td>\n      <td>13</td>\n    </tr>\n    <tr>\n      <th>84</th>\n      <td>2023-03-31</td>\n      <td>694</td>\n      <td>203</td>\n      <td>207</td>\n      <td>4709</td>\n      <td>479</td>\n      <td>9411</td>\n      <td>495</td>\n      <td>4444</td>\n      <td>2107</td>\n      <td>...</td>\n      <td>0</td>\n      <td>0</td>\n      <td>0</td>\n      <td>25</td>\n      <td>0</td>\n      <td>5</td>\n      <td>35</td>\n      <td>121</td>\n      <td>43</td>\n      <td>18</td>\n    </tr>\n  </tbody>\n</table>\n<p>85 rows × 81 columns</p>\n</div>"
     },
     "execution_count": 4,
     "metadata": {},
     "output_type": "execute_result"
    }
   ],
   "source": [
    "metal_market = pd.read_excel(\"data/Показатели рынка металла.xlsx\")\n",
    "metal_market"
   ],
   "metadata": {
    "collapsed": false,
    "ExecuteTime": {
     "end_time": "2023-06-23T23:12:25.554731Z",
     "start_time": "2023-06-23T23:12:25.386351Z"
    }
   }
  },
  {
   "cell_type": "code",
   "execution_count": 5,
   "outputs": [],
   "source": [
    "del metal_market"
   ],
   "metadata": {
    "collapsed": false,
    "ExecuteTime": {
     "end_time": "2023-06-23T23:19:48.714599Z",
     "start_time": "2023-06-23T23:19:48.708822Z"
    }
   }
  },
  {
   "cell_type": "markdown",
   "source": [
    "### макропоказатели"
   ],
   "metadata": {
    "collapsed": false
   }
  },
  {
   "cell_type": "code",
   "execution_count": 6,
   "outputs": [
    {
     "data": {
      "text/plain": "             dt  Базовый индекс потребительских цен на товары и услуги  \\\n0    2016-01-31                                                NaN       \n1    2016-02-29                                                NaN       \n2    2016-03-31                                                NaN       \n3    2016-04-30                                                NaN       \n4    2016-05-31                                                NaN       \n...         ...                                                ...       \n1667 2023-06-10                                                NaN       \n1668 2023-06-13                                                NaN       \n1669 2023-06-14                                                NaN       \n1670 2023-06-15                                                NaN       \n1671 2023-06-16                                                NaN       \n\n      Ключевая ставка  Курс доллара  \n0                 NaN           NaN  \n1                 NaN           NaN  \n2                 NaN           NaN  \n3                 NaN           NaN  \n4                 NaN           NaN  \n...               ...           ...  \n1667              NaN       82.6417  \n1668              7.5           NaN  \n1669              7.5       83.6405  \n1670              7.5       84.3249  \n1671              7.5       83.9611  \n\n[1672 rows x 4 columns]",
      "text/html": "<div>\n<style scoped>\n    .dataframe tbody tr th:only-of-type {\n        vertical-align: middle;\n    }\n\n    .dataframe tbody tr th {\n        vertical-align: top;\n    }\n\n    .dataframe thead th {\n        text-align: right;\n    }\n</style>\n<table border=\"1\" class=\"dataframe\">\n  <thead>\n    <tr style=\"text-align: right;\">\n      <th></th>\n      <th>dt</th>\n      <th>Базовый индекс потребительских цен на товары и услуги</th>\n      <th>Ключевая ставка</th>\n      <th>Курс доллара</th>\n    </tr>\n  </thead>\n  <tbody>\n    <tr>\n      <th>0</th>\n      <td>2016-01-31</td>\n      <td>NaN</td>\n      <td>NaN</td>\n      <td>NaN</td>\n    </tr>\n    <tr>\n      <th>1</th>\n      <td>2016-02-29</td>\n      <td>NaN</td>\n      <td>NaN</td>\n      <td>NaN</td>\n    </tr>\n    <tr>\n      <th>2</th>\n      <td>2016-03-31</td>\n      <td>NaN</td>\n      <td>NaN</td>\n      <td>NaN</td>\n    </tr>\n    <tr>\n      <th>3</th>\n      <td>2016-04-30</td>\n      <td>NaN</td>\n      <td>NaN</td>\n      <td>NaN</td>\n    </tr>\n    <tr>\n      <th>4</th>\n      <td>2016-05-31</td>\n      <td>NaN</td>\n      <td>NaN</td>\n      <td>NaN</td>\n    </tr>\n    <tr>\n      <th>...</th>\n      <td>...</td>\n      <td>...</td>\n      <td>...</td>\n      <td>...</td>\n    </tr>\n    <tr>\n      <th>1667</th>\n      <td>2023-06-10</td>\n      <td>NaN</td>\n      <td>NaN</td>\n      <td>82.6417</td>\n    </tr>\n    <tr>\n      <th>1668</th>\n      <td>2023-06-13</td>\n      <td>NaN</td>\n      <td>7.5</td>\n      <td>NaN</td>\n    </tr>\n    <tr>\n      <th>1669</th>\n      <td>2023-06-14</td>\n      <td>NaN</td>\n      <td>7.5</td>\n      <td>83.6405</td>\n    </tr>\n    <tr>\n      <th>1670</th>\n      <td>2023-06-15</td>\n      <td>NaN</td>\n      <td>7.5</td>\n      <td>84.3249</td>\n    </tr>\n    <tr>\n      <th>1671</th>\n      <td>2023-06-16</td>\n      <td>NaN</td>\n      <td>7.5</td>\n      <td>83.9611</td>\n    </tr>\n  </tbody>\n</table>\n<p>1672 rows × 4 columns</p>\n</div>"
     },
     "execution_count": 6,
     "metadata": {},
     "output_type": "execute_result"
    }
   ],
   "source": [
    "macroeconomics = pd.read_excel(\"data/Макропоказатели.xlsx\")\n",
    "macroeconomics"
   ],
   "metadata": {
    "collapsed": false,
    "ExecuteTime": {
     "end_time": "2023-06-23T23:20:46.379919Z",
     "start_time": "2023-06-23T23:20:46.324957Z"
    }
   }
  },
  {
   "cell_type": "code",
   "execution_count": 10,
   "outputs": [],
   "source": [
    "rename_columns = [\n",
    "    \"base_byers_price_index\",\n",
    "    \"key_rate\",\n",
    "    \"dollar_rate\"\n",
    "]\n",
    "columns = macroeconomics.columns.drop(\"dt\")"
   ],
   "metadata": {
    "collapsed": false,
    "ExecuteTime": {
     "end_time": "2023-06-23T23:32:27.905873Z",
     "start_time": "2023-06-23T23:32:27.903710Z"
    }
   }
  },
  {
   "cell_type": "code",
   "execution_count": 11,
   "outputs": [
    {
     "data": {
      "text/plain": "Index(['Базовый индекс потребительских цен на товары и услуги',\n       'Ключевая ставка', 'Курс доллара'],\n      dtype='object')"
     },
     "execution_count": 11,
     "metadata": {},
     "output_type": "execute_result"
    }
   ],
   "source": [
    "columns"
   ],
   "metadata": {
    "collapsed": false,
    "ExecuteTime": {
     "end_time": "2023-06-23T23:32:31.921345Z",
     "start_time": "2023-06-23T23:32:31.916112Z"
    }
   }
  },
  {
   "cell_type": "code",
   "execution_count": 14,
   "outputs": [
    {
     "data": {
      "text/plain": "{'Базовый индекс потребительских цен на товары и услуги': 'base_byers_price_index',\n 'Ключевая ставка': 'key_rate',\n 'Курс доллара': 'dollar_rate'}"
     },
     "execution_count": 14,
     "metadata": {},
     "output_type": "execute_result"
    }
   ],
   "source": [
    "rename_dict = {}\n",
    "for old, new in zip(columns, rename_columns):\n",
    "    rename_dict[old] = new\n",
    "rename_dict"
   ],
   "metadata": {
    "collapsed": false,
    "ExecuteTime": {
     "end_time": "2023-06-23T23:34:02.259649Z",
     "start_time": "2023-06-23T23:34:02.253711Z"
    }
   }
  },
  {
   "cell_type": "code",
   "execution_count": 16,
   "outputs": [],
   "source": [
    "renamed_macroeconomics = macroeconomics.rename(columns=rename_dict)"
   ],
   "metadata": {
    "collapsed": false,
    "ExecuteTime": {
     "end_time": "2023-06-23T23:34:32.542921Z",
     "start_time": "2023-06-23T23:34:32.537175Z"
    }
   }
  },
  {
   "cell_type": "code",
   "execution_count": 17,
   "outputs": [
    {
     "data": {
      "text/plain": "             dt  base_byers_price_index  key_rate  dollar_rate\n0    2016-01-31                     NaN       NaN          NaN\n1    2016-02-29                     NaN       NaN          NaN\n2    2016-03-31                     NaN       NaN          NaN\n3    2016-04-30                     NaN       NaN          NaN\n4    2016-05-31                     NaN       NaN          NaN\n...         ...                     ...       ...          ...\n1667 2023-06-10                     NaN       NaN      82.6417\n1668 2023-06-13                     NaN       7.5          NaN\n1669 2023-06-14                     NaN       7.5      83.6405\n1670 2023-06-15                     NaN       7.5      84.3249\n1671 2023-06-16                     NaN       7.5      83.9611\n\n[1672 rows x 4 columns]",
      "text/html": "<div>\n<style scoped>\n    .dataframe tbody tr th:only-of-type {\n        vertical-align: middle;\n    }\n\n    .dataframe tbody tr th {\n        vertical-align: top;\n    }\n\n    .dataframe thead th {\n        text-align: right;\n    }\n</style>\n<table border=\"1\" class=\"dataframe\">\n  <thead>\n    <tr style=\"text-align: right;\">\n      <th></th>\n      <th>dt</th>\n      <th>base_byers_price_index</th>\n      <th>key_rate</th>\n      <th>dollar_rate</th>\n    </tr>\n  </thead>\n  <tbody>\n    <tr>\n      <th>0</th>\n      <td>2016-01-31</td>\n      <td>NaN</td>\n      <td>NaN</td>\n      <td>NaN</td>\n    </tr>\n    <tr>\n      <th>1</th>\n      <td>2016-02-29</td>\n      <td>NaN</td>\n      <td>NaN</td>\n      <td>NaN</td>\n    </tr>\n    <tr>\n      <th>2</th>\n      <td>2016-03-31</td>\n      <td>NaN</td>\n      <td>NaN</td>\n      <td>NaN</td>\n    </tr>\n    <tr>\n      <th>3</th>\n      <td>2016-04-30</td>\n      <td>NaN</td>\n      <td>NaN</td>\n      <td>NaN</td>\n    </tr>\n    <tr>\n      <th>4</th>\n      <td>2016-05-31</td>\n      <td>NaN</td>\n      <td>NaN</td>\n      <td>NaN</td>\n    </tr>\n    <tr>\n      <th>...</th>\n      <td>...</td>\n      <td>...</td>\n      <td>...</td>\n      <td>...</td>\n    </tr>\n    <tr>\n      <th>1667</th>\n      <td>2023-06-10</td>\n      <td>NaN</td>\n      <td>NaN</td>\n      <td>82.6417</td>\n    </tr>\n    <tr>\n      <th>1668</th>\n      <td>2023-06-13</td>\n      <td>NaN</td>\n      <td>7.5</td>\n      <td>NaN</td>\n    </tr>\n    <tr>\n      <th>1669</th>\n      <td>2023-06-14</td>\n      <td>NaN</td>\n      <td>7.5</td>\n      <td>83.6405</td>\n    </tr>\n    <tr>\n      <th>1670</th>\n      <td>2023-06-15</td>\n      <td>NaN</td>\n      <td>7.5</td>\n      <td>84.3249</td>\n    </tr>\n    <tr>\n      <th>1671</th>\n      <td>2023-06-16</td>\n      <td>NaN</td>\n      <td>7.5</td>\n      <td>83.9611</td>\n    </tr>\n  </tbody>\n</table>\n<p>1672 rows × 4 columns</p>\n</div>"
     },
     "execution_count": 17,
     "metadata": {},
     "output_type": "execute_result"
    }
   ],
   "source": [
    "renamed_macroeconomics"
   ],
   "metadata": {
    "collapsed": false,
    "ExecuteTime": {
     "end_time": "2023-06-23T23:34:33.589804Z",
     "start_time": "2023-06-23T23:34:33.584337Z"
    }
   }
  },
  {
   "cell_type": "code",
   "execution_count": 18,
   "outputs": [
    {
     "data": {
      "text/plain": "dt                        datetime64[ns]\nbase_byers_price_index           float64\nkey_rate                         float64\ndollar_rate                      float64\ndtype: object"
     },
     "execution_count": 18,
     "metadata": {},
     "output_type": "execute_result"
    }
   ],
   "source": [
    "renamed_macroeconomics.dtypes"
   ],
   "metadata": {
    "collapsed": false,
    "ExecuteTime": {
     "end_time": "2023-06-23T23:48:17.950962Z",
     "start_time": "2023-06-23T23:48:17.946770Z"
    }
   }
  },
  {
   "cell_type": "code",
   "execution_count": 19,
   "outputs": [],
   "source": [
    "renamed_macroeconomics.to_csv(\"data_processing/macroeconomics.csv\", index=False)"
   ],
   "metadata": {
    "collapsed": false,
    "ExecuteTime": {
     "end_time": "2023-06-23T23:49:31.114739Z",
     "start_time": "2023-06-23T23:49:31.105394Z"
    }
   }
  },
  {
   "cell_type": "markdown",
   "source": [
    "### индекс LME"
   ],
   "metadata": {
    "collapsed": false
   }
  },
  {
   "cell_type": "code",
   "execution_count": null,
   "outputs": [],
   "source": [],
   "metadata": {
    "collapsed": false
   }
  },
  {
   "cell_type": "markdown",
   "source": [
    "### данные рынка стройматериалов"
   ],
   "metadata": {
    "collapsed": false
   }
  },
  {
   "cell_type": "code",
   "execution_count": null,
   "outputs": [],
   "source": [],
   "metadata": {
    "collapsed": false
   }
  },
  {
   "cell_type": "markdown",
   "source": [
    "### грузоперевозки"
   ],
   "metadata": {
    "collapsed": false
   }
  },
  {
   "cell_type": "code",
   "execution_count": 2,
   "outputs": [
    {
     "data": {
      "text/plain": "            dt  Индекс стоимости грузоперевозок\n0   2017-09-06                             1000\n1   2017-09-13                              991\n2   2017-09-20                              992\n3   2017-09-27                              979\n4   2017-10-04                              985\n..         ...                              ...\n297 2023-05-17                             1434\n298 2023-05-24                             1452\n299 2023-05-31                             1487\n300 2023-06-07                             1500\n301 2023-06-14                             1501\n\n[302 rows x 2 columns]",
      "text/html": "<div>\n<style scoped>\n    .dataframe tbody tr th:only-of-type {\n        vertical-align: middle;\n    }\n\n    .dataframe tbody tr th {\n        vertical-align: top;\n    }\n\n    .dataframe thead th {\n        text-align: right;\n    }\n</style>\n<table border=\"1\" class=\"dataframe\">\n  <thead>\n    <tr style=\"text-align: right;\">\n      <th></th>\n      <th>dt</th>\n      <th>Индекс стоимости грузоперевозок</th>\n    </tr>\n  </thead>\n  <tbody>\n    <tr>\n      <th>0</th>\n      <td>2017-09-06</td>\n      <td>1000</td>\n    </tr>\n    <tr>\n      <th>1</th>\n      <td>2017-09-13</td>\n      <td>991</td>\n    </tr>\n    <tr>\n      <th>2</th>\n      <td>2017-09-20</td>\n      <td>992</td>\n    </tr>\n    <tr>\n      <th>3</th>\n      <td>2017-09-27</td>\n      <td>979</td>\n    </tr>\n    <tr>\n      <th>4</th>\n      <td>2017-10-04</td>\n      <td>985</td>\n    </tr>\n    <tr>\n      <th>...</th>\n      <td>...</td>\n      <td>...</td>\n    </tr>\n    <tr>\n      <th>297</th>\n      <td>2023-05-17</td>\n      <td>1434</td>\n    </tr>\n    <tr>\n      <th>298</th>\n      <td>2023-05-24</td>\n      <td>1452</td>\n    </tr>\n    <tr>\n      <th>299</th>\n      <td>2023-05-31</td>\n      <td>1487</td>\n    </tr>\n    <tr>\n      <th>300</th>\n      <td>2023-06-07</td>\n      <td>1500</td>\n    </tr>\n    <tr>\n      <th>301</th>\n      <td>2023-06-14</td>\n      <td>1501</td>\n    </tr>\n  </tbody>\n</table>\n<p>302 rows × 2 columns</p>\n</div>"
     },
     "execution_count": 2,
     "metadata": {},
     "output_type": "execute_result"
    }
   ],
   "source": [
    "transportation = pd.read_excel(\"data/Грузоперевозки.xlsx\")\n",
    "transportation"
   ],
   "metadata": {
    "collapsed": false,
    "ExecuteTime": {
     "end_time": "2023-06-23T23:53:06.505374Z",
     "start_time": "2023-06-23T23:53:06.395105Z"
    }
   }
  },
  {
   "cell_type": "code",
   "execution_count": 3,
   "outputs": [],
   "source": [
    "transportation.rename(columns={\"Индекс стоимости грузоперевозок\": \"transportation_price_index\"}, inplace=True)\n",
    "transportation.to_csv(\"data_processing/transportation.csv\", index=False)"
   ],
   "metadata": {
    "collapsed": false,
    "ExecuteTime": {
     "end_time": "2023-06-23T23:55:07.262612Z",
     "start_time": "2023-06-23T23:55:07.254856Z"
    }
   }
  },
  {
   "cell_type": "markdown",
   "source": [
    "### NLMK акции"
   ],
   "metadata": {
    "collapsed": false
   }
  },
  {
   "cell_type": "code",
   "execution_count": 19,
   "outputs": [
    {
     "data": {
      "text/plain": "            Date   Price    Open    High     Low    Vol. Change %\n0     03/31/2023  129.32  130.60  130.60  128.36   3.54M   -0.98%\n1     03/30/2023  130.60  132.30  133.44  129.80   4.85M   -0.94%\n2     03/29/2023  131.84  128.00  134.44  127.10  10.37M    3.37%\n3     03/28/2023  127.54  128.58  128.94  126.56   2.27M   -0.50%\n4     03/27/2023  128.18  127.00  128.42  126.86   2.81M    1.33%\n...          ...     ...     ...     ...     ...     ...      ...\n1048  01/10/2019  154.12  153.52  154.12  152.26   1.96M    0.22%\n1049  01/09/2019  153.78  150.36  154.46  150.08   4.03M    2.44%\n1050  01/08/2019  150.12  150.98  151.34  149.64   3.12M   -3.57%\n1051  01/04/2019  155.68  156.80  157.46  154.80   2.91M   -1.06%\n1052  01/03/2019  157.34  155.86  157.34  154.80   2.90M   -0.05%\n\n[1053 rows x 7 columns]",
      "text/html": "<div>\n<style scoped>\n    .dataframe tbody tr th:only-of-type {\n        vertical-align: middle;\n    }\n\n    .dataframe tbody tr th {\n        vertical-align: top;\n    }\n\n    .dataframe thead th {\n        text-align: right;\n    }\n</style>\n<table border=\"1\" class=\"dataframe\">\n  <thead>\n    <tr style=\"text-align: right;\">\n      <th></th>\n      <th>Date</th>\n      <th>Price</th>\n      <th>Open</th>\n      <th>High</th>\n      <th>Low</th>\n      <th>Vol.</th>\n      <th>Change %</th>\n    </tr>\n  </thead>\n  <tbody>\n    <tr>\n      <th>0</th>\n      <td>03/31/2023</td>\n      <td>129.32</td>\n      <td>130.60</td>\n      <td>130.60</td>\n      <td>128.36</td>\n      <td>3.54M</td>\n      <td>-0.98%</td>\n    </tr>\n    <tr>\n      <th>1</th>\n      <td>03/30/2023</td>\n      <td>130.60</td>\n      <td>132.30</td>\n      <td>133.44</td>\n      <td>129.80</td>\n      <td>4.85M</td>\n      <td>-0.94%</td>\n    </tr>\n    <tr>\n      <th>2</th>\n      <td>03/29/2023</td>\n      <td>131.84</td>\n      <td>128.00</td>\n      <td>134.44</td>\n      <td>127.10</td>\n      <td>10.37M</td>\n      <td>3.37%</td>\n    </tr>\n    <tr>\n      <th>3</th>\n      <td>03/28/2023</td>\n      <td>127.54</td>\n      <td>128.58</td>\n      <td>128.94</td>\n      <td>126.56</td>\n      <td>2.27M</td>\n      <td>-0.50%</td>\n    </tr>\n    <tr>\n      <th>4</th>\n      <td>03/27/2023</td>\n      <td>128.18</td>\n      <td>127.00</td>\n      <td>128.42</td>\n      <td>126.86</td>\n      <td>2.81M</td>\n      <td>1.33%</td>\n    </tr>\n    <tr>\n      <th>...</th>\n      <td>...</td>\n      <td>...</td>\n      <td>...</td>\n      <td>...</td>\n      <td>...</td>\n      <td>...</td>\n      <td>...</td>\n    </tr>\n    <tr>\n      <th>1048</th>\n      <td>01/10/2019</td>\n      <td>154.12</td>\n      <td>153.52</td>\n      <td>154.12</td>\n      <td>152.26</td>\n      <td>1.96M</td>\n      <td>0.22%</td>\n    </tr>\n    <tr>\n      <th>1049</th>\n      <td>01/09/2019</td>\n      <td>153.78</td>\n      <td>150.36</td>\n      <td>154.46</td>\n      <td>150.08</td>\n      <td>4.03M</td>\n      <td>2.44%</td>\n    </tr>\n    <tr>\n      <th>1050</th>\n      <td>01/08/2019</td>\n      <td>150.12</td>\n      <td>150.98</td>\n      <td>151.34</td>\n      <td>149.64</td>\n      <td>3.12M</td>\n      <td>-3.57%</td>\n    </tr>\n    <tr>\n      <th>1051</th>\n      <td>01/04/2019</td>\n      <td>155.68</td>\n      <td>156.80</td>\n      <td>157.46</td>\n      <td>154.80</td>\n      <td>2.91M</td>\n      <td>-1.06%</td>\n    </tr>\n    <tr>\n      <th>1052</th>\n      <td>01/03/2019</td>\n      <td>157.34</td>\n      <td>155.86</td>\n      <td>157.34</td>\n      <td>154.80</td>\n      <td>2.90M</td>\n      <td>-0.05%</td>\n    </tr>\n  </tbody>\n</table>\n<p>1053 rows × 7 columns</p>\n</div>"
     },
     "execution_count": 19,
     "metadata": {},
     "output_type": "execute_result"
    }
   ],
   "source": [
    "mnlk_shares = pd.read_csv(\"data/NLMK Акции.csv\")\n",
    "mnlk_shares"
   ],
   "metadata": {
    "collapsed": false,
    "ExecuteTime": {
     "end_time": "2023-06-24T00:17:06.856053Z",
     "start_time": "2023-06-24T00:17:06.844391Z"
    }
   }
  },
  {
   "cell_type": "code",
   "execution_count": 12,
   "outputs": [
    {
     "data": {
      "text/plain": "Price       float64\nOpen        float64\nHigh        float64\nLow         float64\nVol.        float64\nChange %     object\ndtype: object"
     },
     "execution_count": 12,
     "metadata": {},
     "output_type": "execute_result"
    }
   ],
   "source": [
    "mnlk_shares.dtypes"
   ],
   "metadata": {
    "collapsed": false,
    "ExecuteTime": {
     "end_time": "2023-06-24T00:14:13.367030Z",
     "start_time": "2023-06-24T00:14:13.363019Z"
    }
   }
  },
  {
   "cell_type": "code",
   "execution_count": 10,
   "outputs": [],
   "source": [
    "import re\n",
    "extract_numbers = lambda x: float(re.findall(\"[-+]?\\d*\\.\\d+|\\d+\", x)[0])"
   ],
   "metadata": {
    "collapsed": false,
    "ExecuteTime": {
     "end_time": "2023-06-24T00:14:07.142960Z",
     "start_time": "2023-06-24T00:14:07.137365Z"
    }
   }
  },
  {
   "cell_type": "code",
   "execution_count": 11,
   "outputs": [],
   "source": [
    "mnlk_shares[\"Vol.\"] = mnlk_shares[\"Vol.\"].apply(extract_numbers)"
   ],
   "metadata": {
    "collapsed": false,
    "ExecuteTime": {
     "end_time": "2023-06-24T00:14:10.865928Z",
     "start_time": "2023-06-24T00:14:10.859307Z"
    }
   }
  },
  {
   "cell_type": "code",
   "execution_count": 13,
   "outputs": [],
   "source": [
    "mnlk_shares[\"Change %\"] = mnlk_shares[\"Change %\"].apply(extract_numbers)"
   ],
   "metadata": {
    "collapsed": false,
    "ExecuteTime": {
     "end_time": "2023-06-24T00:14:44.054115Z",
     "start_time": "2023-06-24T00:14:44.044297Z"
    }
   }
  },
  {
   "cell_type": "code",
   "execution_count": 14,
   "outputs": [
    {
     "data": {
      "text/plain": "             Price    Open    High     Low   Vol.  Change %\nDate                                                       \n03/31/2023  129.32  130.60  130.60  128.36   3.54     -0.98\n03/30/2023  130.60  132.30  133.44  129.80   4.85     -0.94\n03/29/2023  131.84  128.00  134.44  127.10  10.37      3.37\n03/28/2023  127.54  128.58  128.94  126.56   2.27     -0.50\n03/27/2023  128.18  127.00  128.42  126.86   2.81      1.33\n...            ...     ...     ...     ...    ...       ...\n01/10/2019  154.12  153.52  154.12  152.26   1.96      0.22\n01/09/2019  153.78  150.36  154.46  150.08   4.03      2.44\n01/08/2019  150.12  150.98  151.34  149.64   3.12     -3.57\n01/04/2019  155.68  156.80  157.46  154.80   2.91     -1.06\n01/03/2019  157.34  155.86  157.34  154.80   2.90     -0.05\n\n[1053 rows x 6 columns]",
      "text/html": "<div>\n<style scoped>\n    .dataframe tbody tr th:only-of-type {\n        vertical-align: middle;\n    }\n\n    .dataframe tbody tr th {\n        vertical-align: top;\n    }\n\n    .dataframe thead th {\n        text-align: right;\n    }\n</style>\n<table border=\"1\" class=\"dataframe\">\n  <thead>\n    <tr style=\"text-align: right;\">\n      <th></th>\n      <th>Price</th>\n      <th>Open</th>\n      <th>High</th>\n      <th>Low</th>\n      <th>Vol.</th>\n      <th>Change %</th>\n    </tr>\n    <tr>\n      <th>Date</th>\n      <th></th>\n      <th></th>\n      <th></th>\n      <th></th>\n      <th></th>\n      <th></th>\n    </tr>\n  </thead>\n  <tbody>\n    <tr>\n      <th>03/31/2023</th>\n      <td>129.32</td>\n      <td>130.60</td>\n      <td>130.60</td>\n      <td>128.36</td>\n      <td>3.54</td>\n      <td>-0.98</td>\n    </tr>\n    <tr>\n      <th>03/30/2023</th>\n      <td>130.60</td>\n      <td>132.30</td>\n      <td>133.44</td>\n      <td>129.80</td>\n      <td>4.85</td>\n      <td>-0.94</td>\n    </tr>\n    <tr>\n      <th>03/29/2023</th>\n      <td>131.84</td>\n      <td>128.00</td>\n      <td>134.44</td>\n      <td>127.10</td>\n      <td>10.37</td>\n      <td>3.37</td>\n    </tr>\n    <tr>\n      <th>03/28/2023</th>\n      <td>127.54</td>\n      <td>128.58</td>\n      <td>128.94</td>\n      <td>126.56</td>\n      <td>2.27</td>\n      <td>-0.50</td>\n    </tr>\n    <tr>\n      <th>03/27/2023</th>\n      <td>128.18</td>\n      <td>127.00</td>\n      <td>128.42</td>\n      <td>126.86</td>\n      <td>2.81</td>\n      <td>1.33</td>\n    </tr>\n    <tr>\n      <th>...</th>\n      <td>...</td>\n      <td>...</td>\n      <td>...</td>\n      <td>...</td>\n      <td>...</td>\n      <td>...</td>\n    </tr>\n    <tr>\n      <th>01/10/2019</th>\n      <td>154.12</td>\n      <td>153.52</td>\n      <td>154.12</td>\n      <td>152.26</td>\n      <td>1.96</td>\n      <td>0.22</td>\n    </tr>\n    <tr>\n      <th>01/09/2019</th>\n      <td>153.78</td>\n      <td>150.36</td>\n      <td>154.46</td>\n      <td>150.08</td>\n      <td>4.03</td>\n      <td>2.44</td>\n    </tr>\n    <tr>\n      <th>01/08/2019</th>\n      <td>150.12</td>\n      <td>150.98</td>\n      <td>151.34</td>\n      <td>149.64</td>\n      <td>3.12</td>\n      <td>-3.57</td>\n    </tr>\n    <tr>\n      <th>01/04/2019</th>\n      <td>155.68</td>\n      <td>156.80</td>\n      <td>157.46</td>\n      <td>154.80</td>\n      <td>2.91</td>\n      <td>-1.06</td>\n    </tr>\n    <tr>\n      <th>01/03/2019</th>\n      <td>157.34</td>\n      <td>155.86</td>\n      <td>157.34</td>\n      <td>154.80</td>\n      <td>2.90</td>\n      <td>-0.05</td>\n    </tr>\n  </tbody>\n</table>\n<p>1053 rows × 6 columns</p>\n</div>"
     },
     "execution_count": 14,
     "metadata": {},
     "output_type": "execute_result"
    }
   ],
   "source": [
    "mnlk_shares"
   ],
   "metadata": {
    "collapsed": false,
    "ExecuteTime": {
     "end_time": "2023-06-24T00:14:48.937807Z",
     "start_time": "2023-06-24T00:14:48.932900Z"
    }
   }
  },
  {
   "cell_type": "code",
   "execution_count": 15,
   "outputs": [],
   "source": [
    "mnlk_shares.to_csv(\"data_processing/NLMK_shares.csv\")"
   ],
   "metadata": {
    "collapsed": false,
    "ExecuteTime": {
     "end_time": "2023-06-24T00:15:37.939424Z",
     "start_time": "2023-06-24T00:15:37.928682Z"
    }
   }
  },
  {
   "cell_type": "markdown",
   "source": [
    "### MAGN акции"
   ],
   "metadata": {
    "collapsed": false
   }
  },
  {
   "cell_type": "code",
   "execution_count": 25,
   "outputs": [
    {
     "data": {
      "text/plain": "            Дата   Цена  Откр.  Макс.   Мин.   Объём  Изм. %\n0     31.03.2023  39,69  40,21  40,24  39,52  18,23M  -1,38%\n1     30.03.2023  40,24  40,60  41,00  40,02  27,14M  -0,87%\n2     29.03.2023  40,60  39,15  40,65  38,96  48,70M   3,70%\n3     28.03.2023  39,15  39,45  39,75  38,91  17,02M  -0,62%\n4     27.03.2023  39,40  38,99  39,48  38,92  20,95M   1,26%\n...          ...    ...    ...    ...    ...     ...     ...\n1048  10.01.2019  44,95  44,55  44,95  44,17   9,15M   0,33%\n1049  09.01.2019  44,80  43,23  44,80  43,02  12,20M   3,80%\n1050  08.01.2019  43,16  43,43  43,70  42,58   7,33M  -0,48%\n1051  04.01.2019  43,37  42,98  43,62  42,80   5,64M   0,91%\n1052  03.01.2019  42,98  43,17  43,30  42,55   3,59M  -0,14%\n\n[1053 rows x 7 columns]",
      "text/html": "<div>\n<style scoped>\n    .dataframe tbody tr th:only-of-type {\n        vertical-align: middle;\n    }\n\n    .dataframe tbody tr th {\n        vertical-align: top;\n    }\n\n    .dataframe thead th {\n        text-align: right;\n    }\n</style>\n<table border=\"1\" class=\"dataframe\">\n  <thead>\n    <tr style=\"text-align: right;\">\n      <th></th>\n      <th>Дата</th>\n      <th>Цена</th>\n      <th>Откр.</th>\n      <th>Макс.</th>\n      <th>Мин.</th>\n      <th>Объём</th>\n      <th>Изм. %</th>\n    </tr>\n  </thead>\n  <tbody>\n    <tr>\n      <th>0</th>\n      <td>31.03.2023</td>\n      <td>39,69</td>\n      <td>40,21</td>\n      <td>40,24</td>\n      <td>39,52</td>\n      <td>18,23M</td>\n      <td>-1,38%</td>\n    </tr>\n    <tr>\n      <th>1</th>\n      <td>30.03.2023</td>\n      <td>40,24</td>\n      <td>40,60</td>\n      <td>41,00</td>\n      <td>40,02</td>\n      <td>27,14M</td>\n      <td>-0,87%</td>\n    </tr>\n    <tr>\n      <th>2</th>\n      <td>29.03.2023</td>\n      <td>40,60</td>\n      <td>39,15</td>\n      <td>40,65</td>\n      <td>38,96</td>\n      <td>48,70M</td>\n      <td>3,70%</td>\n    </tr>\n    <tr>\n      <th>3</th>\n      <td>28.03.2023</td>\n      <td>39,15</td>\n      <td>39,45</td>\n      <td>39,75</td>\n      <td>38,91</td>\n      <td>17,02M</td>\n      <td>-0,62%</td>\n    </tr>\n    <tr>\n      <th>4</th>\n      <td>27.03.2023</td>\n      <td>39,40</td>\n      <td>38,99</td>\n      <td>39,48</td>\n      <td>38,92</td>\n      <td>20,95M</td>\n      <td>1,26%</td>\n    </tr>\n    <tr>\n      <th>...</th>\n      <td>...</td>\n      <td>...</td>\n      <td>...</td>\n      <td>...</td>\n      <td>...</td>\n      <td>...</td>\n      <td>...</td>\n    </tr>\n    <tr>\n      <th>1048</th>\n      <td>10.01.2019</td>\n      <td>44,95</td>\n      <td>44,55</td>\n      <td>44,95</td>\n      <td>44,17</td>\n      <td>9,15M</td>\n      <td>0,33%</td>\n    </tr>\n    <tr>\n      <th>1049</th>\n      <td>09.01.2019</td>\n      <td>44,80</td>\n      <td>43,23</td>\n      <td>44,80</td>\n      <td>43,02</td>\n      <td>12,20M</td>\n      <td>3,80%</td>\n    </tr>\n    <tr>\n      <th>1050</th>\n      <td>08.01.2019</td>\n      <td>43,16</td>\n      <td>43,43</td>\n      <td>43,70</td>\n      <td>42,58</td>\n      <td>7,33M</td>\n      <td>-0,48%</td>\n    </tr>\n    <tr>\n      <th>1051</th>\n      <td>04.01.2019</td>\n      <td>43,37</td>\n      <td>42,98</td>\n      <td>43,62</td>\n      <td>42,80</td>\n      <td>5,64M</td>\n      <td>0,91%</td>\n    </tr>\n    <tr>\n      <th>1052</th>\n      <td>03.01.2019</td>\n      <td>42,98</td>\n      <td>43,17</td>\n      <td>43,30</td>\n      <td>42,55</td>\n      <td>3,59M</td>\n      <td>-0,14%</td>\n    </tr>\n  </tbody>\n</table>\n<p>1053 rows × 7 columns</p>\n</div>"
     },
     "execution_count": 25,
     "metadata": {},
     "output_type": "execute_result"
    }
   ],
   "source": [
    "magn_shares = pd.read_csv(\"data/MAGN Акции.csv\")\n",
    "magn_shares"
   ],
   "metadata": {
    "collapsed": false,
    "ExecuteTime": {
     "end_time": "2023-06-24T00:22:28.820872Z",
     "start_time": "2023-06-24T00:22:28.803773Z"
    }
   }
  },
  {
   "cell_type": "code",
   "execution_count": 26,
   "outputs": [
    {
     "data": {
      "text/plain": "            Date  Price   Open   High    Low    Vol. Change %\n0     31.03.2023  39,69  40,21  40,24  39,52  18,23M   -1,38%\n1     30.03.2023  40,24  40,60  41,00  40,02  27,14M   -0,87%\n2     29.03.2023  40,60  39,15  40,65  38,96  48,70M    3,70%\n3     28.03.2023  39,15  39,45  39,75  38,91  17,02M   -0,62%\n4     27.03.2023  39,40  38,99  39,48  38,92  20,95M    1,26%\n...          ...    ...    ...    ...    ...     ...      ...\n1048  10.01.2019  44,95  44,55  44,95  44,17   9,15M    0,33%\n1049  09.01.2019  44,80  43,23  44,80  43,02  12,20M    3,80%\n1050  08.01.2019  43,16  43,43  43,70  42,58   7,33M   -0,48%\n1051  04.01.2019  43,37  42,98  43,62  42,80   5,64M    0,91%\n1052  03.01.2019  42,98  43,17  43,30  42,55   3,59M   -0,14%\n\n[1053 rows x 7 columns]",
      "text/html": "<div>\n<style scoped>\n    .dataframe tbody tr th:only-of-type {\n        vertical-align: middle;\n    }\n\n    .dataframe tbody tr th {\n        vertical-align: top;\n    }\n\n    .dataframe thead th {\n        text-align: right;\n    }\n</style>\n<table border=\"1\" class=\"dataframe\">\n  <thead>\n    <tr style=\"text-align: right;\">\n      <th></th>\n      <th>Date</th>\n      <th>Price</th>\n      <th>Open</th>\n      <th>High</th>\n      <th>Low</th>\n      <th>Vol.</th>\n      <th>Change %</th>\n    </tr>\n  </thead>\n  <tbody>\n    <tr>\n      <th>0</th>\n      <td>31.03.2023</td>\n      <td>39,69</td>\n      <td>40,21</td>\n      <td>40,24</td>\n      <td>39,52</td>\n      <td>18,23M</td>\n      <td>-1,38%</td>\n    </tr>\n    <tr>\n      <th>1</th>\n      <td>30.03.2023</td>\n      <td>40,24</td>\n      <td>40,60</td>\n      <td>41,00</td>\n      <td>40,02</td>\n      <td>27,14M</td>\n      <td>-0,87%</td>\n    </tr>\n    <tr>\n      <th>2</th>\n      <td>29.03.2023</td>\n      <td>40,60</td>\n      <td>39,15</td>\n      <td>40,65</td>\n      <td>38,96</td>\n      <td>48,70M</td>\n      <td>3,70%</td>\n    </tr>\n    <tr>\n      <th>3</th>\n      <td>28.03.2023</td>\n      <td>39,15</td>\n      <td>39,45</td>\n      <td>39,75</td>\n      <td>38,91</td>\n      <td>17,02M</td>\n      <td>-0,62%</td>\n    </tr>\n    <tr>\n      <th>4</th>\n      <td>27.03.2023</td>\n      <td>39,40</td>\n      <td>38,99</td>\n      <td>39,48</td>\n      <td>38,92</td>\n      <td>20,95M</td>\n      <td>1,26%</td>\n    </tr>\n    <tr>\n      <th>...</th>\n      <td>...</td>\n      <td>...</td>\n      <td>...</td>\n      <td>...</td>\n      <td>...</td>\n      <td>...</td>\n      <td>...</td>\n    </tr>\n    <tr>\n      <th>1048</th>\n      <td>10.01.2019</td>\n      <td>44,95</td>\n      <td>44,55</td>\n      <td>44,95</td>\n      <td>44,17</td>\n      <td>9,15M</td>\n      <td>0,33%</td>\n    </tr>\n    <tr>\n      <th>1049</th>\n      <td>09.01.2019</td>\n      <td>44,80</td>\n      <td>43,23</td>\n      <td>44,80</td>\n      <td>43,02</td>\n      <td>12,20M</td>\n      <td>3,80%</td>\n    </tr>\n    <tr>\n      <th>1050</th>\n      <td>08.01.2019</td>\n      <td>43,16</td>\n      <td>43,43</td>\n      <td>43,70</td>\n      <td>42,58</td>\n      <td>7,33M</td>\n      <td>-0,48%</td>\n    </tr>\n    <tr>\n      <th>1051</th>\n      <td>04.01.2019</td>\n      <td>43,37</td>\n      <td>42,98</td>\n      <td>43,62</td>\n      <td>42,80</td>\n      <td>5,64M</td>\n      <td>0,91%</td>\n    </tr>\n    <tr>\n      <th>1052</th>\n      <td>03.01.2019</td>\n      <td>42,98</td>\n      <td>43,17</td>\n      <td>43,30</td>\n      <td>42,55</td>\n      <td>3,59M</td>\n      <td>-0,14%</td>\n    </tr>\n  </tbody>\n</table>\n<p>1053 rows × 7 columns</p>\n</div>"
     },
     "execution_count": 26,
     "metadata": {},
     "output_type": "execute_result"
    }
   ],
   "source": [
    "magn_shares.columns = mnlk_shares.columns\n",
    "magn_shares"
   ],
   "metadata": {
    "collapsed": false,
    "ExecuteTime": {
     "end_time": "2023-06-24T00:22:32.478504Z",
     "start_time": "2023-06-24T00:22:32.460942Z"
    }
   }
  },
  {
   "cell_type": "code",
   "execution_count": 27,
   "outputs": [
    {
     "data": {
      "text/plain": "Date        object\nPrice       object\nOpen        object\nHigh        object\nLow         object\nVol.        object\nChange %    object\ndtype: object"
     },
     "execution_count": 27,
     "metadata": {},
     "output_type": "execute_result"
    }
   ],
   "source": [
    "magn_shares.dtypes"
   ],
   "metadata": {
    "collapsed": false,
    "ExecuteTime": {
     "end_time": "2023-06-24T00:22:34.938400Z",
     "start_time": "2023-06-24T00:22:34.934139Z"
    }
   }
  },
  {
   "cell_type": "code",
   "execution_count": 28,
   "outputs": [
    {
     "data": {
      "text/plain": "            Date  Price   Open   High    Low    Vol. Change %\n0     31.03.2023  39.69  40.21  40.24  39.52  18.23M   -1.38%\n1     30.03.2023  40.24  40.60  41.00  40.02  27.14M   -0.87%\n2     29.03.2023  40.60  39.15  40.65  38.96  48.70M    3.70%\n3     28.03.2023  39.15  39.45  39.75  38.91  17.02M   -0.62%\n4     27.03.2023  39.40  38.99  39.48  38.92  20.95M    1.26%\n...          ...    ...    ...    ...    ...     ...      ...\n1048  10.01.2019  44.95  44.55  44.95  44.17   9.15M    0.33%\n1049  09.01.2019  44.80  43.23  44.80  43.02  12.20M    3.80%\n1050  08.01.2019  43.16  43.43  43.70  42.58   7.33M   -0.48%\n1051  04.01.2019  43.37  42.98  43.62  42.80   5.64M    0.91%\n1052  03.01.2019  42.98  43.17  43.30  42.55   3.59M   -0.14%\n\n[1053 rows x 7 columns]",
      "text/html": "<div>\n<style scoped>\n    .dataframe tbody tr th:only-of-type {\n        vertical-align: middle;\n    }\n\n    .dataframe tbody tr th {\n        vertical-align: top;\n    }\n\n    .dataframe thead th {\n        text-align: right;\n    }\n</style>\n<table border=\"1\" class=\"dataframe\">\n  <thead>\n    <tr style=\"text-align: right;\">\n      <th></th>\n      <th>Date</th>\n      <th>Price</th>\n      <th>Open</th>\n      <th>High</th>\n      <th>Low</th>\n      <th>Vol.</th>\n      <th>Change %</th>\n    </tr>\n  </thead>\n  <tbody>\n    <tr>\n      <th>0</th>\n      <td>31.03.2023</td>\n      <td>39.69</td>\n      <td>40.21</td>\n      <td>40.24</td>\n      <td>39.52</td>\n      <td>18.23M</td>\n      <td>-1.38%</td>\n    </tr>\n    <tr>\n      <th>1</th>\n      <td>30.03.2023</td>\n      <td>40.24</td>\n      <td>40.60</td>\n      <td>41.00</td>\n      <td>40.02</td>\n      <td>27.14M</td>\n      <td>-0.87%</td>\n    </tr>\n    <tr>\n      <th>2</th>\n      <td>29.03.2023</td>\n      <td>40.60</td>\n      <td>39.15</td>\n      <td>40.65</td>\n      <td>38.96</td>\n      <td>48.70M</td>\n      <td>3.70%</td>\n    </tr>\n    <tr>\n      <th>3</th>\n      <td>28.03.2023</td>\n      <td>39.15</td>\n      <td>39.45</td>\n      <td>39.75</td>\n      <td>38.91</td>\n      <td>17.02M</td>\n      <td>-0.62%</td>\n    </tr>\n    <tr>\n      <th>4</th>\n      <td>27.03.2023</td>\n      <td>39.40</td>\n      <td>38.99</td>\n      <td>39.48</td>\n      <td>38.92</td>\n      <td>20.95M</td>\n      <td>1.26%</td>\n    </tr>\n    <tr>\n      <th>...</th>\n      <td>...</td>\n      <td>...</td>\n      <td>...</td>\n      <td>...</td>\n      <td>...</td>\n      <td>...</td>\n      <td>...</td>\n    </tr>\n    <tr>\n      <th>1048</th>\n      <td>10.01.2019</td>\n      <td>44.95</td>\n      <td>44.55</td>\n      <td>44.95</td>\n      <td>44.17</td>\n      <td>9.15M</td>\n      <td>0.33%</td>\n    </tr>\n    <tr>\n      <th>1049</th>\n      <td>09.01.2019</td>\n      <td>44.80</td>\n      <td>43.23</td>\n      <td>44.80</td>\n      <td>43.02</td>\n      <td>12.20M</td>\n      <td>3.80%</td>\n    </tr>\n    <tr>\n      <th>1050</th>\n      <td>08.01.2019</td>\n      <td>43.16</td>\n      <td>43.43</td>\n      <td>43.70</td>\n      <td>42.58</td>\n      <td>7.33M</td>\n      <td>-0.48%</td>\n    </tr>\n    <tr>\n      <th>1051</th>\n      <td>04.01.2019</td>\n      <td>43.37</td>\n      <td>42.98</td>\n      <td>43.62</td>\n      <td>42.80</td>\n      <td>5.64M</td>\n      <td>0.91%</td>\n    </tr>\n    <tr>\n      <th>1052</th>\n      <td>03.01.2019</td>\n      <td>42.98</td>\n      <td>43.17</td>\n      <td>43.30</td>\n      <td>42.55</td>\n      <td>3.59M</td>\n      <td>-0.14%</td>\n    </tr>\n  </tbody>\n</table>\n<p>1053 rows × 7 columns</p>\n</div>"
     },
     "execution_count": 28,
     "metadata": {},
     "output_type": "execute_result"
    }
   ],
   "source": [
    "str_to_num = lambda x: x.replace(\",\", \".\")\n",
    "for col in magn_shares.columns:\n",
    "    try:\n",
    "        magn_shares[col] = magn_shares[col].apply(str_to_num).astype(float)\n",
    "    except:\n",
    "        magn_shares[col] = magn_shares[col].apply(str_to_num)\n",
    "magn_shares"
   ],
   "metadata": {
    "collapsed": false,
    "ExecuteTime": {
     "end_time": "2023-06-24T00:22:37.775295Z",
     "start_time": "2023-06-24T00:22:37.766134Z"
    }
   }
  },
  {
   "cell_type": "code",
   "execution_count": 29,
   "outputs": [
    {
     "data": {
      "text/plain": "Date         object\nPrice       float64\nOpen        float64\nHigh        float64\nLow         float64\nVol.        float64\nChange %    float64\ndtype: object"
     },
     "execution_count": 29,
     "metadata": {},
     "output_type": "execute_result"
    }
   ],
   "source": [
    "magn_shares[\"Vol.\"] = magn_shares[\"Vol.\"].apply(extract_numbers)\n",
    "magn_shares[\"Change %\"] = magn_shares[\"Change %\"].apply(extract_numbers)\n",
    "magn_shares.dtypes"
   ],
   "metadata": {
    "collapsed": false,
    "ExecuteTime": {
     "end_time": "2023-06-24T00:23:36.311843Z",
     "start_time": "2023-06-24T00:23:36.306063Z"
    }
   }
  },
  {
   "cell_type": "code",
   "execution_count": 31,
   "outputs": [],
   "source": [
    "magn_shares.to_csv(\"data_processing/MAGN_shares.csv\", index=False)"
   ],
   "metadata": {
    "collapsed": false,
    "ExecuteTime": {
     "end_time": "2023-06-24T00:25:12.062945Z",
     "start_time": "2023-06-24T00:25:12.056230Z"
    }
   }
  },
  {
   "cell_type": "markdown",
   "source": [
    "### CHMF акции"
   ],
   "metadata": {
    "collapsed": false
   }
  },
  {
   "cell_type": "code",
   "execution_count": 32,
   "outputs": [
    {
     "data": {
      "text/plain": "            Date     Price      Open      High       Low     Vol. Change %\n0     03/31/2023  1,043.20  1,061.00  1,061.00  1,042.00  571.72K   -1.68%\n1     03/30/2023  1,061.00  1,074.60  1,084.80  1,058.00    1.30M   -1.27%\n2     03/29/2023  1,074.60  1,040.60  1,078.40  1,035.40    1.79M    3.53%\n3     03/28/2023  1,038.00  1,041.40  1,044.00  1,033.00  269.09K   -0.17%\n4     03/27/2023  1,039.80  1,036.20  1,042.60  1,032.20  410.74K    0.50%\n...          ...       ...       ...       ...       ...      ...      ...\n1049  01/10/2019    970.00    972.50    973.40    958.60  725.45K   -0.27%\n1050  01/09/2019    972.60    953.10    973.50    950.00    1.03M    2.09%\n1051  01/08/2019    952.70    952.00    960.00    941.30  565.63K    0.32%\n1052  01/04/2019    949.70    934.00    949.70    931.10  335.53K    1.66%\n1053  01/03/2019    934.20    940.00    942.60    926.30  601.71K   -0.92%\n\n[1054 rows x 7 columns]",
      "text/html": "<div>\n<style scoped>\n    .dataframe tbody tr th:only-of-type {\n        vertical-align: middle;\n    }\n\n    .dataframe tbody tr th {\n        vertical-align: top;\n    }\n\n    .dataframe thead th {\n        text-align: right;\n    }\n</style>\n<table border=\"1\" class=\"dataframe\">\n  <thead>\n    <tr style=\"text-align: right;\">\n      <th></th>\n      <th>Date</th>\n      <th>Price</th>\n      <th>Open</th>\n      <th>High</th>\n      <th>Low</th>\n      <th>Vol.</th>\n      <th>Change %</th>\n    </tr>\n  </thead>\n  <tbody>\n    <tr>\n      <th>0</th>\n      <td>03/31/2023</td>\n      <td>1,043.20</td>\n      <td>1,061.00</td>\n      <td>1,061.00</td>\n      <td>1,042.00</td>\n      <td>571.72K</td>\n      <td>-1.68%</td>\n    </tr>\n    <tr>\n      <th>1</th>\n      <td>03/30/2023</td>\n      <td>1,061.00</td>\n      <td>1,074.60</td>\n      <td>1,084.80</td>\n      <td>1,058.00</td>\n      <td>1.30M</td>\n      <td>-1.27%</td>\n    </tr>\n    <tr>\n      <th>2</th>\n      <td>03/29/2023</td>\n      <td>1,074.60</td>\n      <td>1,040.60</td>\n      <td>1,078.40</td>\n      <td>1,035.40</td>\n      <td>1.79M</td>\n      <td>3.53%</td>\n    </tr>\n    <tr>\n      <th>3</th>\n      <td>03/28/2023</td>\n      <td>1,038.00</td>\n      <td>1,041.40</td>\n      <td>1,044.00</td>\n      <td>1,033.00</td>\n      <td>269.09K</td>\n      <td>-0.17%</td>\n    </tr>\n    <tr>\n      <th>4</th>\n      <td>03/27/2023</td>\n      <td>1,039.80</td>\n      <td>1,036.20</td>\n      <td>1,042.60</td>\n      <td>1,032.20</td>\n      <td>410.74K</td>\n      <td>0.50%</td>\n    </tr>\n    <tr>\n      <th>...</th>\n      <td>...</td>\n      <td>...</td>\n      <td>...</td>\n      <td>...</td>\n      <td>...</td>\n      <td>...</td>\n      <td>...</td>\n    </tr>\n    <tr>\n      <th>1049</th>\n      <td>01/10/2019</td>\n      <td>970.00</td>\n      <td>972.50</td>\n      <td>973.40</td>\n      <td>958.60</td>\n      <td>725.45K</td>\n      <td>-0.27%</td>\n    </tr>\n    <tr>\n      <th>1050</th>\n      <td>01/09/2019</td>\n      <td>972.60</td>\n      <td>953.10</td>\n      <td>973.50</td>\n      <td>950.00</td>\n      <td>1.03M</td>\n      <td>2.09%</td>\n    </tr>\n    <tr>\n      <th>1051</th>\n      <td>01/08/2019</td>\n      <td>952.70</td>\n      <td>952.00</td>\n      <td>960.00</td>\n      <td>941.30</td>\n      <td>565.63K</td>\n      <td>0.32%</td>\n    </tr>\n    <tr>\n      <th>1052</th>\n      <td>01/04/2019</td>\n      <td>949.70</td>\n      <td>934.00</td>\n      <td>949.70</td>\n      <td>931.10</td>\n      <td>335.53K</td>\n      <td>1.66%</td>\n    </tr>\n    <tr>\n      <th>1053</th>\n      <td>01/03/2019</td>\n      <td>934.20</td>\n      <td>940.00</td>\n      <td>942.60</td>\n      <td>926.30</td>\n      <td>601.71K</td>\n      <td>-0.92%</td>\n    </tr>\n  </tbody>\n</table>\n<p>1054 rows × 7 columns</p>\n</div>"
     },
     "execution_count": 32,
     "metadata": {},
     "output_type": "execute_result"
    }
   ],
   "source": [
    "chmf_shares = pd.read_csv(\"data/CHMF Акции.csv\")\n",
    "chmf_shares"
   ],
   "metadata": {
    "collapsed": false,
    "ExecuteTime": {
     "end_time": "2023-06-24T00:28:02.776511Z",
     "start_time": "2023-06-24T00:28:02.750029Z"
    }
   }
  },
  {
   "cell_type": "code",
   "execution_count": 37,
   "outputs": [
    {
     "data": {
      "text/plain": "Date         object\nPrice       float64\nOpen        float64\nHigh        float64\nLow         float64\nVol.         object\nChange %     object\ndtype: object"
     },
     "execution_count": 37,
     "metadata": {},
     "output_type": "execute_result"
    }
   ],
   "source": [
    "chmf_shares.dtypes"
   ],
   "metadata": {
    "collapsed": false,
    "ExecuteTime": {
     "end_time": "2023-06-24T00:31:24.321993Z",
     "start_time": "2023-06-24T00:31:24.309685Z"
    }
   }
  },
  {
   "cell_type": "code",
   "execution_count": 34,
   "outputs": [
    {
     "ename": "AttributeError",
     "evalue": "'float' object has no attribute 'replace'",
     "output_type": "error",
     "traceback": [
      "\u001B[0;31m---------------------------------------------------------------------------\u001B[0m",
      "\u001B[0;31mAttributeError\u001B[0m                            Traceback (most recent call last)",
      "Cell \u001B[0;32mIn[34], line 4\u001B[0m\n\u001B[1;32m      3\u001B[0m \u001B[38;5;28;01mtry\u001B[39;00m:\n\u001B[0;32m----> 4\u001B[0m     chmf_shares[col] \u001B[38;5;241m=\u001B[39m \u001B[43mchmf_shares\u001B[49m\u001B[43m[\u001B[49m\u001B[43mcol\u001B[49m\u001B[43m]\u001B[49m\u001B[38;5;241;43m.\u001B[39;49m\u001B[43mapply\u001B[49m\u001B[43m(\u001B[49m\u001B[43mremove_comma\u001B[49m\u001B[43m)\u001B[49m\u001B[38;5;241m.\u001B[39mastype(\u001B[38;5;28mfloat\u001B[39m)\n\u001B[1;32m      5\u001B[0m \u001B[38;5;28;01mexcept\u001B[39;00m:\n",
      "File \u001B[0;32m~/miniconda3/envs/datacon/lib/python3.10/site-packages/pandas/core/series.py:4771\u001B[0m, in \u001B[0;36mSeries.apply\u001B[0;34m(self, func, convert_dtype, args, **kwargs)\u001B[0m\n\u001B[1;32m   4668\u001B[0m \u001B[38;5;250m\u001B[39m\u001B[38;5;124;03m\"\"\"\u001B[39;00m\n\u001B[1;32m   4669\u001B[0m \u001B[38;5;124;03mInvoke function on values of Series.\u001B[39;00m\n\u001B[1;32m   4670\u001B[0m \n\u001B[0;32m   (...)\u001B[0m\n\u001B[1;32m   4769\u001B[0m \u001B[38;5;124;03mdtype: float64\u001B[39;00m\n\u001B[1;32m   4770\u001B[0m \u001B[38;5;124;03m\"\"\"\u001B[39;00m\n\u001B[0;32m-> 4771\u001B[0m \u001B[38;5;28;01mreturn\u001B[39;00m \u001B[43mSeriesApply\u001B[49m\u001B[43m(\u001B[49m\u001B[38;5;28;43mself\u001B[39;49m\u001B[43m,\u001B[49m\u001B[43m \u001B[49m\u001B[43mfunc\u001B[49m\u001B[43m,\u001B[49m\u001B[43m \u001B[49m\u001B[43mconvert_dtype\u001B[49m\u001B[43m,\u001B[49m\u001B[43m \u001B[49m\u001B[43margs\u001B[49m\u001B[43m,\u001B[49m\u001B[43m \u001B[49m\u001B[43mkwargs\u001B[49m\u001B[43m)\u001B[49m\u001B[38;5;241;43m.\u001B[39;49m\u001B[43mapply\u001B[49m\u001B[43m(\u001B[49m\u001B[43m)\u001B[49m\n",
      "File \u001B[0;32m~/miniconda3/envs/datacon/lib/python3.10/site-packages/pandas/core/apply.py:1123\u001B[0m, in \u001B[0;36mSeriesApply.apply\u001B[0;34m(self)\u001B[0m\n\u001B[1;32m   1122\u001B[0m \u001B[38;5;66;03m# self.f is Callable\u001B[39;00m\n\u001B[0;32m-> 1123\u001B[0m \u001B[38;5;28;01mreturn\u001B[39;00m \u001B[38;5;28;43mself\u001B[39;49m\u001B[38;5;241;43m.\u001B[39;49m\u001B[43mapply_standard\u001B[49m\u001B[43m(\u001B[49m\u001B[43m)\u001B[49m\n",
      "File \u001B[0;32m~/miniconda3/envs/datacon/lib/python3.10/site-packages/pandas/core/apply.py:1174\u001B[0m, in \u001B[0;36mSeriesApply.apply_standard\u001B[0;34m(self)\u001B[0m\n\u001B[1;32m   1173\u001B[0m         values \u001B[38;5;241m=\u001B[39m obj\u001B[38;5;241m.\u001B[39mastype(\u001B[38;5;28mobject\u001B[39m)\u001B[38;5;241m.\u001B[39m_values\n\u001B[0;32m-> 1174\u001B[0m         mapped \u001B[38;5;241m=\u001B[39m \u001B[43mlib\u001B[49m\u001B[38;5;241;43m.\u001B[39;49m\u001B[43mmap_infer\u001B[49m\u001B[43m(\u001B[49m\n\u001B[1;32m   1175\u001B[0m \u001B[43m            \u001B[49m\u001B[43mvalues\u001B[49m\u001B[43m,\u001B[49m\n\u001B[1;32m   1176\u001B[0m \u001B[43m            \u001B[49m\u001B[43mf\u001B[49m\u001B[43m,\u001B[49m\n\u001B[1;32m   1177\u001B[0m \u001B[43m            \u001B[49m\u001B[43mconvert\u001B[49m\u001B[38;5;241;43m=\u001B[39;49m\u001B[38;5;28;43mself\u001B[39;49m\u001B[38;5;241;43m.\u001B[39;49m\u001B[43mconvert_dtype\u001B[49m\u001B[43m,\u001B[49m\n\u001B[1;32m   1178\u001B[0m \u001B[43m        \u001B[49m\u001B[43m)\u001B[49m\n\u001B[1;32m   1180\u001B[0m \u001B[38;5;28;01mif\u001B[39;00m \u001B[38;5;28mlen\u001B[39m(mapped) \u001B[38;5;129;01mand\u001B[39;00m \u001B[38;5;28misinstance\u001B[39m(mapped[\u001B[38;5;241m0\u001B[39m], ABCSeries):\n\u001B[1;32m   1181\u001B[0m     \u001B[38;5;66;03m# GH#43986 Need to do list(mapped) in order to get treated as nested\u001B[39;00m\n\u001B[1;32m   1182\u001B[0m     \u001B[38;5;66;03m#  See also GH#25959 regarding EA support\u001B[39;00m\n",
      "File \u001B[0;32m~/miniconda3/envs/datacon/lib/python3.10/site-packages/pandas/_libs/lib.pyx:2924\u001B[0m, in \u001B[0;36mpandas._libs.lib.map_infer\u001B[0;34m()\u001B[0m\n",
      "Cell \u001B[0;32mIn[34], line 1\u001B[0m, in \u001B[0;36m<lambda>\u001B[0;34m(x)\u001B[0m\n\u001B[0;32m----> 1\u001B[0m remove_comma \u001B[38;5;241m=\u001B[39m \u001B[38;5;28;01mlambda\u001B[39;00m x: \u001B[43mx\u001B[49m\u001B[38;5;241;43m.\u001B[39;49m\u001B[43mreplace\u001B[49m(\u001B[38;5;124m\"\u001B[39m\u001B[38;5;124m,\u001B[39m\u001B[38;5;124m\"\u001B[39m, \u001B[38;5;124m\"\u001B[39m\u001B[38;5;124m\"\u001B[39m)\n\u001B[1;32m      2\u001B[0m \u001B[38;5;28;01mfor\u001B[39;00m col \u001B[38;5;129;01min\u001B[39;00m chmf_shares\u001B[38;5;241m.\u001B[39mcolumns:\n",
      "\u001B[0;31mAttributeError\u001B[0m: 'float' object has no attribute 'replace'",
      "\nDuring handling of the above exception, another exception occurred:\n",
      "\u001B[0;31mAttributeError\u001B[0m                            Traceback (most recent call last)",
      "Cell \u001B[0;32mIn[34], line 6\u001B[0m\n\u001B[1;32m      4\u001B[0m     chmf_shares[col] \u001B[38;5;241m=\u001B[39m chmf_shares[col]\u001B[38;5;241m.\u001B[39mapply(remove_comma)\u001B[38;5;241m.\u001B[39mastype(\u001B[38;5;28mfloat\u001B[39m)\n\u001B[1;32m      5\u001B[0m \u001B[38;5;28;01mexcept\u001B[39;00m:\n\u001B[0;32m----> 6\u001B[0m     chmf_shares[col] \u001B[38;5;241m=\u001B[39m \u001B[43mchmf_shares\u001B[49m\u001B[43m[\u001B[49m\u001B[43mcol\u001B[49m\u001B[43m]\u001B[49m\u001B[38;5;241;43m.\u001B[39;49m\u001B[43mapply\u001B[49m\u001B[43m(\u001B[49m\u001B[43mremove_comma\u001B[49m\u001B[43m)\u001B[49m\n",
      "File \u001B[0;32m~/miniconda3/envs/datacon/lib/python3.10/site-packages/pandas/core/series.py:4771\u001B[0m, in \u001B[0;36mSeries.apply\u001B[0;34m(self, func, convert_dtype, args, **kwargs)\u001B[0m\n\u001B[1;32m   4661\u001B[0m \u001B[38;5;28;01mdef\u001B[39;00m \u001B[38;5;21mapply\u001B[39m(\n\u001B[1;32m   4662\u001B[0m     \u001B[38;5;28mself\u001B[39m,\n\u001B[1;32m   4663\u001B[0m     func: AggFuncType,\n\u001B[0;32m   (...)\u001B[0m\n\u001B[1;32m   4666\u001B[0m     \u001B[38;5;241m*\u001B[39m\u001B[38;5;241m*\u001B[39mkwargs,\n\u001B[1;32m   4667\u001B[0m ) \u001B[38;5;241m-\u001B[39m\u001B[38;5;241m>\u001B[39m DataFrame \u001B[38;5;241m|\u001B[39m Series:\n\u001B[1;32m   4668\u001B[0m \u001B[38;5;250m    \u001B[39m\u001B[38;5;124;03m\"\"\"\u001B[39;00m\n\u001B[1;32m   4669\u001B[0m \u001B[38;5;124;03m    Invoke function on values of Series.\u001B[39;00m\n\u001B[1;32m   4670\u001B[0m \n\u001B[0;32m   (...)\u001B[0m\n\u001B[1;32m   4769\u001B[0m \u001B[38;5;124;03m    dtype: float64\u001B[39;00m\n\u001B[1;32m   4770\u001B[0m \u001B[38;5;124;03m    \"\"\"\u001B[39;00m\n\u001B[0;32m-> 4771\u001B[0m     \u001B[38;5;28;01mreturn\u001B[39;00m \u001B[43mSeriesApply\u001B[49m\u001B[43m(\u001B[49m\u001B[38;5;28;43mself\u001B[39;49m\u001B[43m,\u001B[49m\u001B[43m \u001B[49m\u001B[43mfunc\u001B[49m\u001B[43m,\u001B[49m\u001B[43m \u001B[49m\u001B[43mconvert_dtype\u001B[49m\u001B[43m,\u001B[49m\u001B[43m \u001B[49m\u001B[43margs\u001B[49m\u001B[43m,\u001B[49m\u001B[43m \u001B[49m\u001B[43mkwargs\u001B[49m\u001B[43m)\u001B[49m\u001B[38;5;241;43m.\u001B[39;49m\u001B[43mapply\u001B[49m\u001B[43m(\u001B[49m\u001B[43m)\u001B[49m\n",
      "File \u001B[0;32m~/miniconda3/envs/datacon/lib/python3.10/site-packages/pandas/core/apply.py:1123\u001B[0m, in \u001B[0;36mSeriesApply.apply\u001B[0;34m(self)\u001B[0m\n\u001B[1;32m   1120\u001B[0m     \u001B[38;5;28;01mreturn\u001B[39;00m \u001B[38;5;28mself\u001B[39m\u001B[38;5;241m.\u001B[39mapply_str()\n\u001B[1;32m   1122\u001B[0m \u001B[38;5;66;03m# self.f is Callable\u001B[39;00m\n\u001B[0;32m-> 1123\u001B[0m \u001B[38;5;28;01mreturn\u001B[39;00m \u001B[38;5;28;43mself\u001B[39;49m\u001B[38;5;241;43m.\u001B[39;49m\u001B[43mapply_standard\u001B[49m\u001B[43m(\u001B[49m\u001B[43m)\u001B[49m\n",
      "File \u001B[0;32m~/miniconda3/envs/datacon/lib/python3.10/site-packages/pandas/core/apply.py:1174\u001B[0m, in \u001B[0;36mSeriesApply.apply_standard\u001B[0;34m(self)\u001B[0m\n\u001B[1;32m   1172\u001B[0m     \u001B[38;5;28;01melse\u001B[39;00m:\n\u001B[1;32m   1173\u001B[0m         values \u001B[38;5;241m=\u001B[39m obj\u001B[38;5;241m.\u001B[39mastype(\u001B[38;5;28mobject\u001B[39m)\u001B[38;5;241m.\u001B[39m_values\n\u001B[0;32m-> 1174\u001B[0m         mapped \u001B[38;5;241m=\u001B[39m \u001B[43mlib\u001B[49m\u001B[38;5;241;43m.\u001B[39;49m\u001B[43mmap_infer\u001B[49m\u001B[43m(\u001B[49m\n\u001B[1;32m   1175\u001B[0m \u001B[43m            \u001B[49m\u001B[43mvalues\u001B[49m\u001B[43m,\u001B[49m\n\u001B[1;32m   1176\u001B[0m \u001B[43m            \u001B[49m\u001B[43mf\u001B[49m\u001B[43m,\u001B[49m\n\u001B[1;32m   1177\u001B[0m \u001B[43m            \u001B[49m\u001B[43mconvert\u001B[49m\u001B[38;5;241;43m=\u001B[39;49m\u001B[38;5;28;43mself\u001B[39;49m\u001B[38;5;241;43m.\u001B[39;49m\u001B[43mconvert_dtype\u001B[49m\u001B[43m,\u001B[49m\n\u001B[1;32m   1178\u001B[0m \u001B[43m        \u001B[49m\u001B[43m)\u001B[49m\n\u001B[1;32m   1180\u001B[0m \u001B[38;5;28;01mif\u001B[39;00m \u001B[38;5;28mlen\u001B[39m(mapped) \u001B[38;5;129;01mand\u001B[39;00m \u001B[38;5;28misinstance\u001B[39m(mapped[\u001B[38;5;241m0\u001B[39m], ABCSeries):\n\u001B[1;32m   1181\u001B[0m     \u001B[38;5;66;03m# GH#43986 Need to do list(mapped) in order to get treated as nested\u001B[39;00m\n\u001B[1;32m   1182\u001B[0m     \u001B[38;5;66;03m#  See also GH#25959 regarding EA support\u001B[39;00m\n\u001B[1;32m   1183\u001B[0m     \u001B[38;5;28;01mreturn\u001B[39;00m obj\u001B[38;5;241m.\u001B[39m_constructor_expanddim(\u001B[38;5;28mlist\u001B[39m(mapped), index\u001B[38;5;241m=\u001B[39mobj\u001B[38;5;241m.\u001B[39mindex)\n",
      "File \u001B[0;32m~/miniconda3/envs/datacon/lib/python3.10/site-packages/pandas/_libs/lib.pyx:2924\u001B[0m, in \u001B[0;36mpandas._libs.lib.map_infer\u001B[0;34m()\u001B[0m\n",
      "Cell \u001B[0;32mIn[34], line 1\u001B[0m, in \u001B[0;36m<lambda>\u001B[0;34m(x)\u001B[0m\n\u001B[0;32m----> 1\u001B[0m remove_comma \u001B[38;5;241m=\u001B[39m \u001B[38;5;28;01mlambda\u001B[39;00m x: \u001B[43mx\u001B[49m\u001B[38;5;241;43m.\u001B[39;49m\u001B[43mreplace\u001B[49m(\u001B[38;5;124m\"\u001B[39m\u001B[38;5;124m,\u001B[39m\u001B[38;5;124m\"\u001B[39m, \u001B[38;5;124m\"\u001B[39m\u001B[38;5;124m\"\u001B[39m)\n\u001B[1;32m      2\u001B[0m \u001B[38;5;28;01mfor\u001B[39;00m col \u001B[38;5;129;01min\u001B[39;00m chmf_shares\u001B[38;5;241m.\u001B[39mcolumns:\n\u001B[1;32m      3\u001B[0m     \u001B[38;5;28;01mtry\u001B[39;00m:\n",
      "\u001B[0;31mAttributeError\u001B[0m: 'float' object has no attribute 'replace'"
     ]
    }
   ],
   "source": [
    "remove_comma = lambda x: x.replace(\",\", \"\")\n",
    "for col in chmf_shares.columns:\n",
    "    try:\n",
    "        chmf_shares[col] = chmf_shares[col].apply(remove_comma).astype(float)\n",
    "    except:\n",
    "        chmf_shares[col] = chmf_shares[col].apply(remove_comma)"
   ],
   "metadata": {
    "collapsed": false,
    "ExecuteTime": {
     "end_time": "2023-06-24T00:30:11.669116Z",
     "start_time": "2023-06-24T00:30:11.613771Z"
    }
   }
  },
  {
   "cell_type": "code",
   "execution_count": 38,
   "outputs": [
    {
     "data": {
      "text/plain": "array(['571.72K', '1.30M', '1.79M', '269.09K', '410.74K', '360.85K',\n       '289.63K', '415.70K', '618.43K', '897.83K', '671.77K', '856.84K',\n       '844.08K', '554.68K', '723.20K', '637.77K', '437.91K', '519.46K',\n       '683.46K', '400.02K', '1.09M', '647.38K', '1.03M', '1.12M',\n       '993.88K', '1.38M', '714.83K', '622.29K', '985.56K', '1.48M',\n       '926.91K', '724.12K', '894.15K', '1.63M', '1.36M', '1.74M',\n       '1.51M', '1.43M', '1.86M', '1.66M', '998.96K', '688.13K',\n       '488.94K', '306.49K', '444.43K', '442.75K', '333.78K', '574.34K',\n       '382.66K', '506.54K', '663.91K', '784.45K', '330.22K', '415.68K',\n       '422.41K', '403.57K', '835.93K', '328.17K', '297.18K', '369.93K',\n       '358.18K', '652.37K', '327.86K', '694.90K', '588.57K', '644.35K',\n       '469.74K', '884.41K', '1.06M', '1.33M', '804.16K', '611.74K',\n       '1.47M', '1.02M', '528.63K', '715.62K', '432.93K', '253.96K',\n       '349.68K', '487.17K', '282.57K', '328.96K', '230.88K', '271.41K',\n       '241.50K', '411.67K', '511.37K', '579.23K', '360.21K', '335.82K',\n       '343.88K', '548.17K', '883.47K', '649.31K', '483.96K', '1.10M',\n       '1.55M', '1.21M', '579.03K', '861.12K', '1.68M', '2.40M', '1.65M',\n       '900.73K', '2.02M', '1.27M', '1.13M', '1.69M', '2.17M', '324.23K',\n       '481.75K', '891.18K', '768.83K', '496.87K', '403.89K', '829.32K',\n       '629.94K', '816.40K', '1.44M', '1.01M', '552.86K', '851.63K',\n       '1.78M', '816.48K', '730.89K', '967.64K', '1.26M', '335.18K',\n       '389.70K', '630.76K', '576.11K', '442.49K', '624.53K', '489.10K',\n       '546.51K', '645.33K', '1.35M', '793.86K', '806.25K', '436.95K',\n       '735.14K', '772.51K', '758.04K', '167.46K', '301.82K', '277.27K',\n       '275.31K', '255.55K', '310.36K', '244.82K', '465.31K', '612.00K',\n       '422.71K', '310.78K', '578.83K', '425.10K', '686.74K', '529.46K',\n       '667.56K', '421.87K', '741.88K', '583.95K', '1.07M', '652.10K',\n       '1.19M', '692.55K', '801.23K', '690.10K', '811.69K', '543.88K',\n       '355.02K', '564.69K', '353.34K', '581.53K', '541.47K', '297.26K',\n       '229.77K', '346.11K', '389.15K', '634.59K', '440.13K', '824.58K',\n       '1.25M', '1.16M', '636.37K', '591.47K', '925.68K', '870.47K',\n       '1.32M', '699.38K', '804.02K', '557.77K', '563.64K', '718.36K',\n       '957.64K', '1.94M', '1.70M', '4.19M', '11.74M', '3.70M', '468.89K',\n       '405.05K', '482.17K', '358.44K', '399.67K', '298.03K', '697.35K',\n       '397.14K', '318.25K', '283.21K', '400.26K', '213.98K', '283.54K',\n       '257.61K', '289.58K', '304.63K', '172.99K', '207.89K', '302.05K',\n       '292.13K', '362.51K', '342.23K', '405.59K', '236.75K', '406.83K',\n       '567.42K', '712.46K', '539.46K', '271.58K', '421.50K', '375.01K',\n       '337.36K', '712.41K', '650.82K', '365.48K', '713.26K', '852.42K',\n       '1.08M', '1.17M', '448.62K', '700.14K', '606.03K', '577.92K',\n       '2.67M', nan, '2.06M', '7.25M', '4.80M', '5.51M', '2.99M', '2.26M',\n       '1.04M', '3.24M', '1.87M', '2.13M', '1.54M', '1.20M', '1.39M',\n       '1.42M', '1.28M', '2.15M', '1.73M', '1.52M', '3.72M', '2.30M',\n       '1.15M', '1.67M', '840.07K', '1.00M', '941.33K', '562.49K',\n       '755.21K', '515.50K', '455.40K', '863.01K', '1.05M', '560.75K',\n       '462.77K', '936.11K', '884.19K', '1.58M', '2.35M', '2.12M',\n       '2.07M', '1.53M', '1.22M', '1.41M', '3.06M', '807.20K', '438.71K',\n       '882.05K', '1.97M', '1.56M', '1.14M', '717.43K', '708.59K',\n       '894.13K', '996.54K', '703.63K', '976.34K', '1.95M', '973.34K',\n       '1.72M', '1.64M', '2.55M', '3.64M', '1.46M', '1.24M', '2.29M',\n       '2.25M', '2.43M', '2.45M', '2.21M', '1.80M', '985.72K', '1.93M',\n       '1.83M', '2.33M', '1.89M', '1.34M', '807.91K', '720.51K',\n       '951.08K', '2.10M', '2.49M', '2.96M', '1.31M', '1.37M', '764.14K',\n       '648.92K', '876.97K', '764.83K', '1.29M', '1.18M', '813.26K',\n       '755.50K', '757.92K', '2.54M', '985.47K', '1.57M', '1.50M',\n       '2.82M', '2.59M', '2.04M', '1.88M', '990.29K', '691.63K', '1.59M',\n       '1.92M', '3.65M', '5.66M', '895.21K', '2.34M', '2.14M', '2.24M',\n       '2.28M', '878.80K', '666.41K', '754.54K', '1.77M', '857.12K',\n       '2.39M', '803.09K', '2.22M', '3.73M', '3.60M', '2.57M', '3.58M',\n       '2.48M', '837.25K', '767.91K', '537.78K', '2.18M', '2.36M',\n       '1.76M', '743.68K', '999.90K', '1.90M', '2.11M', '1.11M', '2.51M',\n       '234.89K', '984.72K', '961.94K', '945.93K', '940.53K', '880.35K',\n       '982.82K', '527.06K', '823.48K', '785.97K', '822.35K', '929.47K',\n       '2.84M', '840.83K', '999.39K', '891.47K', '857.77K', '4.11M',\n       '3.03M', '3.21M', '1.49M', '974.90K', '840.55K', '417.25K',\n       '802.33K', '888.52K', '971.94K', '930.61K', '925.50K', '896.97K',\n       '1.45M', '767.48K', '659.38K', '655.97K', '459.36K', '609.25K',\n       '551.67K', '677.64K', '732.30K', '573.28K', '458.06K', '705.28K',\n       '784.59K', '743.74K', '867.39K', '516.44K', '581.41K', '852.71K',\n       '883.20K', '701.35K', '800.94K', '879.99K', '950.03K', '784.89K',\n       '1.61M', '924.28K', '550.44K', '789.47K', '638.08K', '722.66K',\n       '524.03K', '764.91K', '827.75K', '745.40K', '936.33K', '795.84K',\n       '795.99K', '629.90K', '706.72K', '672.61K', '990.90K', '871.55K',\n       '897.87K', '612.62K', '902.84K', '886.69K', '750.44K', '427.08K',\n       '646.19K', '839.69K', '896.83K', '572.65K', '621.31K', '501.24K',\n       '869.80K', '1.60M', '896.41K', '655.64K', '872.22K', '1.23M',\n       '753.46K', '1.81M', '2.37M', '697.05K', '991.60K', '968.63K',\n       '1.98M', '2.00M', '1.40M', '992.74K', '519.53K', '819.54K',\n       '542.25K', '881.38K', '897.34K', '996.43K', '996.90K', '605.61K',\n       '954.62K', '512.52K', '309.05K', '814.79K', '2.01M', '2.20M',\n       '1.91M', '2.19M', '3.04M', '3.27M', '4.37M', '1.71M', '1.96M',\n       '3.89M', '2.32M', '1.85M', '835.02K', '514.46K', '508.96K',\n       '623.63K', '956.25K', '850.35K', '913.19K', '1.99M', '727.44K',\n       '629.79K', '729.69K', '534.85K', '987.73K', '771.92K', '461.42K',\n       '677.14K', '737.79K', '572.09K', '477.44K', '692.38K', '262.21K',\n       '185.21K', '388.53K', '581.72K', '567.19K', '917.98K', '958.76K',\n       '775.75K', '627.74K', '992.26K', '965.42K', '838.13K', '798.35K',\n       '886.85K', '1.62M', '631.55K', '975.29K', '2.42M', '693.82K',\n       '983.00K', '968.68K', '512.30K', '673.77K', '818.04K', '978.84K',\n       '807.54K', '878.75K', '681.74K', '712.85K', '910.20K', '870.52K',\n       '926.75K', '400.37K', '618.92K', '714.38K', '496.61K', '792.84K',\n       '695.70K', '606.05K', '819.61K', '923.51K', '342.33K', '398.38K',\n       '552.71K', '264.59K', '544.64K', '691.96K', '573.47K', '458.36K',\n       '352.92K', '594.13K', '865.87K', '274.57K', '609.95K', '423.67K',\n       '761.94K', '744.58K', '699.81K', '423.77K', '607.71K', '605.41K',\n       '568.66K', '607.12K', '829.64K', '641.65K', '736.68K', '437.88K',\n       '691.69K', '300.14K', '467.01K', '781.84K', '718.82K', '484.93K',\n       '625.64K', '661.31K', '382.42K', '920.35K', '697.69K', '680.75K',\n       '709.70K', '629.58K', '163.49K', '627.49K', '617.20K', '988.21K',\n       '924.11K', '718.24K', '651.32K', '704.80K', '738.68K', '896.28K',\n       '782.78K', '429.32K', '773.82K', '464.39K', '852.05K', '421.52K',\n       '582.55K', '364.55K', '545.11K', '576.82K', '567.70K', '904.50K',\n       '186.69K', '207.31K', '473.09K', '778.05K', '521.03K', '448.56K',\n       '592.89K', '465.00K', '865.74K', '717.16K', '410.90K', '308.91K',\n       '558.29K', '750.10K', '575.60K', '626.23K', '752.28K', '733.45K',\n       '306.48K', '275.95K', '424.93K', '401.80K', '595.96K', '649.02K',\n       '2.08M', '452.15K', '572.05K', '436.49K', '343.64K', '365.55K',\n       '433.88K', '815.17K', '445.48K', '776.03K', '508.44K', '530.15K',\n       '929.28K', '464.41K', '622.77K', '696.29K', '340.96K', '373.28K',\n       '436.54K', '847.19K', '830.64K', '499.62K', '731.29K', '460.57K',\n       '755.92K', '935.56K', '952.44K', '491.12K', '438.97K', '675.03K',\n       '953.22K', '414.11K', '416.31K', '273.22K', '425.58K', '656.13K',\n       '510.33K', '550.38K', '557.87K', '709.80K', '725.45K', '565.63K',\n       '335.53K', '601.71K'], dtype=object)"
     },
     "execution_count": 38,
     "metadata": {},
     "output_type": "execute_result"
    }
   ],
   "source": [
    "chmf_shares[\"Vol.\"].unique()"
   ],
   "metadata": {
    "collapsed": false,
    "ExecuteTime": {
     "end_time": "2023-06-24T00:31:50.286388Z",
     "start_time": "2023-06-24T00:31:50.268543Z"
    }
   }
  },
  {
   "cell_type": "code",
   "execution_count": 41,
   "outputs": [],
   "source": [
    "chmf_shares.dropna(inplace=True)"
   ],
   "metadata": {
    "collapsed": false,
    "ExecuteTime": {
     "end_time": "2023-06-24T00:34:37.621569Z",
     "start_time": "2023-06-24T00:34:37.614749Z"
    }
   }
  },
  {
   "cell_type": "code",
   "execution_count": 42,
   "outputs": [
    {
     "data": {
      "text/plain": "Date         object\nPrice       float64\nOpen        float64\nHigh        float64\nLow         float64\nVol.        float64\nChange %    float64\ndtype: object"
     },
     "execution_count": 42,
     "metadata": {},
     "output_type": "execute_result"
    }
   ],
   "source": [
    "chmf_shares[\"Vol.\"] = chmf_shares[\"Vol.\"].astype(str).apply(extract_numbers)\n",
    "chmf_shares[\"Change %\"] = chmf_shares[\"Change %\"].astype(str).apply(extract_numbers)\n",
    "chmf_shares.dtypes"
   ],
   "metadata": {
    "collapsed": false,
    "ExecuteTime": {
     "end_time": "2023-06-24T00:34:42.276640Z",
     "start_time": "2023-06-24T00:34:42.271925Z"
    }
   }
  },
  {
   "cell_type": "code",
   "execution_count": 43,
   "outputs": [],
   "source": [
    "chmf_shares.to_csv(\"data_processing/CHMF_shares.csv\", index=False)"
   ],
   "metadata": {
    "collapsed": false,
    "ExecuteTime": {
     "end_time": "2023-06-24T00:35:14.571772Z",
     "start_time": "2023-06-24T00:35:14.546313Z"
    }
   }
  },
  {
   "cell_type": "code",
   "execution_count": null,
   "outputs": [],
   "source": [],
   "metadata": {
    "collapsed": false
   }
  }
 ],
 "metadata": {
  "kernelspec": {
   "display_name": "Python 3",
   "language": "python",
   "name": "python3"
  },
  "language_info": {
   "codemirror_mode": {
    "name": "ipython",
    "version": 2
   },
   "file_extension": ".py",
   "mimetype": "text/x-python",
   "name": "python",
   "nbconvert_exporter": "python",
   "pygments_lexer": "ipython2",
   "version": "2.7.6"
  }
 },
 "nbformat": 4,
 "nbformat_minor": 0
}
